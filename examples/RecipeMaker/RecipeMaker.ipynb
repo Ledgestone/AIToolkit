{
 "cells": [
  {
   "cell_type": "markdown",
   "metadata": {},
   "source": [
    "### Import statements"
   ]
  },
  {
   "cell_type": "code",
   "execution_count": 1,
   "metadata": {},
   "outputs": [],
   "source": [
    "import sys\n",
    "sys.path.insert(0, '/Users/ahell/Documents/Python Projects/AIToolkit')\n",
    "\n",
    "import os\n",
    "from dotenv import load_dotenv, find_dotenv\n",
    "from ai_toolkit import AIModel, PromptBuilder, FileReader, FileWriter, AIProcess, Function"
   ]
  },
  {
   "cell_type": "code",
   "execution_count": 2,
   "metadata": {},
   "outputs": [
    {
     "data": {
      "text/plain": [
       "True"
      ]
     },
     "execution_count": 2,
     "metadata": {},
     "output_type": "execute_result"
    }
   ],
   "source": [
    "# Load in the environment variables\n",
    "load_dotenv(find_dotenv())"
   ]
  },
  {
   "cell_type": "code",
   "execution_count": 3,
   "metadata": {},
   "outputs": [
    {
     "data": {
      "text/plain": [
       "['gpt-3.5-turbo',\n",
       " 'gpt-4',\n",
       " 'gpt-3.5-turbo-16k',\n",
       " 'claude-1',\n",
       " 'claude-1-100k',\n",
       " 'claude-instant-1',\n",
       " 'claude-instant-1-100k',\n",
       " 'respell-gpt-4-wrapper']"
      ]
     },
     "execution_count": 3,
     "metadata": {},
     "output_type": "execute_result"
    }
   ],
   "source": [
    "AIModel.ALL_MODEL_NAMES"
   ]
  },
  {
   "cell_type": "code",
   "execution_count": 4,
   "metadata": {},
   "outputs": [
    {
     "name": "stdout",
     "output_type": "stream",
     "text": [
      "[Possible Dishes Prompt (PromptBuilder), Possible Dishes LLM (AIModel), Possible Dishes JSON (Function), Possible Dishes File Writer (FileWriter), Possible Dishes File Reader (FileReader)]\n",
      "Processing Possible Dishes File Reader (FileReader)\n",
      "Processing Possible Dishes Prompt (PromptBuilder)\n",
      "Processing Possible Dishes LLM (AIModel)\n",
      "Processing Possible Dishes JSON (Function)\n",
      "Processing Possible Dishes File Writer (FileWriter)\n"
     ]
    },
    {
     "data": {
      "text/plain": [
       "['Teriyaki Chicken with Rice and Steamed Broccoli',\n",
       " 'Baked Chicken and Broccoli Casserole with Rice',\n",
       " 'Chicken Stir-fry with Broccoli and Rice Noodles']"
      ]
     },
     "execution_count": 4,
     "metadata": {},
     "output_type": "execute_result"
    }
   ],
   "source": [
    "dishes_file = FileReader(\"Possible Dishes File Reader\").set_input(file_path=\"possible_dishes_prompt.txt\")\n",
    "dishes_prompt = PromptBuilder(\"Possible Dishes Prompt\").set_input(template=dishes_file)\n",
    "dishes_llm = AIModel(\"Possible Dishes LLM\").set_input(model_name=\"gpt-3.5-turbo\", prompt=dishes_prompt)\n",
    "dishes_json = Function(\"Possible Dishes JSON\").set_input(function=\"convert_to_json\", input=dishes_llm)\n",
    "dishes_file_writer = FileWriter(\"Possible Dishes File Writer\").set_input(file_path=\"possible_dishes.json\", data=dishes_json)\n",
    "\n",
    "dish_generator = AIProcess(\"Possible Dishes Process\")\n",
    "dish_generator.expose_output(dishes_json)\n",
    "dish_generator.expose_input(\"ingredients\", dishes_prompt)\n",
    "\n",
    "print(dish_generator.ai_tools_in_process())\n",
    "\n",
    "dish_generator.set_input(ingredients=\"chicken, rice, and broccoli\")\n",
    "dish_generator.process()\n",
    "dish_generator.get_output()\n",
    "\n",
    "\n",
    "\n",
    "# dish_generator.set_input(ingredients=ingredients)\n",
    "# dish_generator.process()\n",
    "# dish_generator.get_output()"
   ]
  },
  {
   "cell_type": "code",
   "execution_count": 15,
   "metadata": {},
   "outputs": [
    {
     "name": "stdout",
     "output_type": "stream",
     "text": [
      "[]\n"
     ]
    },
    {
     "data": {
      "text/plain": [
       "True"
      ]
     },
     "execution_count": 15,
     "metadata": {},
     "output_type": "execute_result"
    }
   ],
   "source": [
    "print(dishes_file.dependents_received_output)\n",
    "dishes_file._has_single_output(dishes_prompt)\n",
    "dishes_prompt.can_process()"
   ]
  },
  {
   "cell_type": "markdown",
   "metadata": {},
   "source": [
    "### Code"
   ]
  },
  {
   "cell_type": "code",
   "execution_count": null,
   "metadata": {},
   "outputs": [],
   "source": [
    "ingredients = \"\"\"\n",
    "chicken\n",
    "rice\n",
    "broccoli\n",
    "carrots\n",
    "onions\n",
    "garlic\n",
    "salt\n",
    "pepper\n",
    "olive oil\n",
    "butter\n",
    "parsley\n",
    "lemon\n",
    "chicken broth\n",
    "\"\"\"\n",
    "\n",
    "dishes_file = FileReader(\"Possible Dishes File Reader\").set_input(file_path=\"possible_dishes_prompt.txt\")\n",
    "dishes_prompt = PromptBuilder(\"Possible Dishes Prompt\").set_input(template=dishes_file, ingredients=ingredients)\n",
    "dishes_llm = AIModel(\"Possible Dishes LLM\").set_input(model_name=\"gpt-3.5-turbo\", prompt=dishes_prompt)\n",
    "\n",
    "dishes_file.process()\n",
    "dishes_prompt.process()\n",
    "dishes_llm.process()\n",
    "\n",
    "print(dishes_llm.get_output())\n",
    "\n",
    "recipe_maker_file = FileReader().set_input(file_path=\"recipe_maker_prompt.txt\")\n",
    "recipe_maker_prompt = PromptBuilder().set_input(template=recipe_maker_file, dish=dishes_llm, ingredients=ingredients)\n",
    "recipe_maker_ai_model = AIModel().set_input(model_name=\"gpt-3.5-turbo\", prompt=recipe_maker_prompt)\n",
    "\n",
    "recipe_maker_file.process()\n",
    "recipe_maker_prompt.process()\n",
    "recipe_maker_ai_model.process()"
   ]
  },
  {
   "cell_type": "code",
   "execution_count": null,
   "metadata": {},
   "outputs": [],
   "source": [
    "recipe_maker_file = FileReader().set_input(file_path=\"recipe_makr_prompt.txt\")\n",
    "recipe_maker_prompt = PromptBuilder().set_input(template=recipe_maker_file, dish=dishes_ai_model, ingredients=ingredients)\n",
    "recipe_maker_ai_model = AIModel().set_input(model_name=\"gpt-3.5-turbo\", prompt=recipe_maker_prompt)"
   ]
  },
  {
   "cell_type": "code",
   "execution_count": null,
   "metadata": {},
   "outputs": [],
   "source": [
    "dishes_file = FileReader(\"Possible Dishes File Reader\").set_input(file_path=\"possible_dishes_prompt.txt\")\n",
    "dishes_prompt = PromptBuilder(\"Possible Dishes Prompt\").set_input(template=dishes_file)\n",
    "dishes_llm = AIModel(\"Possible Dishes LLM\").set_input(model_name=\"gpt-3.5-turbo\", prompt=dishes_prompt)\n",
    "\n",
    "dish_generator = AIProcess(\"Possible Dishes Process\")\n",
    "dish_generator.expose_output(dishes_llm)\n",
    "dish_generator.expose_input(\"ingredients\", dishes_prompt)\n",
    "\n",
    "dish_generator.ai_tools_in_process()\n",
    "\n",
    "\n",
    "# dish_generator.set_input(ingredients=ingredients)\n",
    "# dish_generator.process()\n",
    "# dish_generator.get_output()"
   ]
  }
 ],
 "metadata": {
  "kernelspec": {
   "display_name": "AIToolkitVenv",
   "language": "python",
   "name": "python3"
  },
  "language_info": {
   "codemirror_mode": {
    "name": "ipython",
    "version": 3
   },
   "file_extension": ".py",
   "mimetype": "text/x-python",
   "name": "python",
   "nbconvert_exporter": "python",
   "pygments_lexer": "ipython3",
   "version": "3.10.10"
  },
  "orig_nbformat": 4
 },
 "nbformat": 4,
 "nbformat_minor": 2
}
