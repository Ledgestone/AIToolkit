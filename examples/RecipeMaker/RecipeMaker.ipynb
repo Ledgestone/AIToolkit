{
    "cells": [
        {
            "cell_type": "markdown",
            "metadata": {},
            "source": [
                "### Import statements"
            ]
        },
        {
            "cell_type": "code",
            "execution_count": 1,
            "metadata": {},
            "outputs": [],
            "source": [
                "import sys\n",
                "sys.path.insert(0, '/Users/ahell/Documents/Python Projects/AIToolkit')\n",
                "\n",
                "import os\n",
                "from dotenv import load_dotenv, find_dotenv\n",
                "import ai_toolkit as ai"
            ]
        },
        {
            "cell_type": "code",
            "execution_count": 2,
            "metadata": {},
            "outputs": [
                {
                    "data": {
                        "text/plain": [
                            "True"
                        ]
                    },
                    "execution_count": 2,
                    "metadata": {},
                    "output_type": "execute_result"
                }
            ],
            "source": [
                "# Load in the environment variables\n",
                "load_dotenv(find_dotenv())"
            ]
        },
        {
            "cell_type": "code",
            "execution_count": 3,
            "metadata": {},
            "outputs": [
                {
                    "data": {
                        "text/plain": [
                            "['gpt-3.5-turbo',\n",
                            " 'gpt-4',\n",
                            " 'gpt-3.5-turbo-16k',\n",
                            " 'claude-1',\n",
                            " 'claude-1-100k',\n",
                            " 'claude-instant-1',\n",
                            " 'claude-instant-1-100k',\n",
                            " 'claude-2',\n",
                            " 'respell-gpt-4-wrapper']"
                        ]
                    },
                    "execution_count": 3,
                    "metadata": {},
                    "output_type": "execute_result"
                }
            ],
            "source": [
                "ai.tools.LLM.ALL_MODEL_NAMES"
            ]
        },
        {
            "cell_type": "code",
            "execution_count": 4,
            "metadata": {},
            "outputs": [
                {
                    "name": "stdout",
                    "output_type": "stream",
                    "text": [
                        "[Possible Dishes LLM (LLM), Possible Dishes File Reader (FileReader), Possible Dishes File Writer (FileWriter), Possible Dishes JSON (ConvertToJSON), Possible Dishes Prompt (PromptBuilder)]\n",
                        "Processing Possible Dishes File Reader (FileReader)\n",
                        "Processing Possible Dishes Prompt (PromptBuilder)\n",
                        "Processing Possible Dishes LLM (LLM)\n",
                        "Processing Possible Dishes JSON (ConvertToJSON)\n",
                        "Processing Possible Dishes File Writer (FileWriter)\n"
                    ]
                },
                {
                    "data": {
                        "text/plain": [
                            "['Lemon Garlic Chicken with Broccoli and Rice',\n",
                            " 'Teriyaki Chicken Stir-fry with Broccoli and Rice',\n",
                            " 'Cheesy Broccoli Chicken and Rice Casserole']"
                        ]
                    },
                    "execution_count": 4,
                    "metadata": {},
                    "output_type": "execute_result"
                }
            ],
            "source": [
                "dishes_file = ai.io.FileReader(\"Possible Dishes File Reader\").set_input(file_path=\"possible_dishes_prompt.txt\")\n",
                "dishes_prompt = ai.tools.PromptBuilder(\"Possible Dishes Prompt\").set_input(template=dishes_file)\n",
                "dishes_llm = ai.tools.LLM(\"Possible Dishes LLM\").set_input(model_name=\"gpt-3.5-turbo\", prompt=dishes_prompt)\n",
                "dishes_json = ai.operations.ConvertToJSON(\"Possible Dishes JSON\").set_input(input=dishes_llm)\n",
                "dishes_file_writer = ai.io.FileWriter(\"Possible Dishes File Writer\").set_input(file_path=\"possible_dishes.json\", data=dishes_json)\n",
                "\n",
                "dish_generator = ai.flow.Process(\"Possible Dishes Process\")\n",
                "dish_generator.expose_output(dishes_json)\n",
                "dish_generator.expose_input(\"ingredients\", dishes_prompt)\n",
                "\n",
                "print(dish_generator.ai_tools_in_process())\n",
                "\n",
                "dish_generator.set_input(ingredients=\"chicken, rice, and broccoli\")\n",
                "dish_generator.process()\n",
                "dish_generator.get_output()"
            ]
        },
        {
            "cell_type": "markdown",
            "metadata": {},
            "source": [
                "### Code"
            ]
        },
        {
            "cell_type": "code",
            "execution_count": 7,
            "metadata": {},
            "outputs": [
                {
                    "name": "stdout",
                    "output_type": "stream",
                    "text": [
                        "[\"Lemon Garlic Chicken with Rice and Roasted Broccoli\", \"Chicken Stir-fry with Rice, Broccoli, Carrots, and Onions\", \"Herb Roasted Chicken with Lemon Butter Rice and Sautéed Vegetables\"]\n",
                        "Recipe 1: Lemon Garlic Chicken with Rice and Roasted Broccoli\n",
                        "\n",
                        "Ingredients:\n",
                        "- 4 chicken breasts\n",
                        "- 1 cup rice\n",
                        "- 2 cups broccoli florets\n",
                        "- 4 cloves garlic, minced\n",
                        "- Salt and pepper to taste\n",
                        "- 2 tablespoons olive oil\n",
                        "- 2 tablespoons butter\n",
                        "- 1 tablespoon fresh parsley, chopped\n",
                        "- 1 lemon, juiced and zested\n",
                        "- 1 cup chicken broth\n",
                        "\n",
                        "Instructions:\n",
                        "1. Preheat your oven to 400°F (200°C). Line a baking sheet with parchment paper.\n",
                        "2. In a large bowl, combine minced garlic, salt, pepper, olive oil, lemon juice, and lemon zest. Mix well.\n",
                        "3. Add the chicken breasts to the bowl and toss to coat them evenly with the marinade. Let the chicken marinate for at least 15 minutes.\n",
                        "4. While the chicken is marinating, cook the rice according to package instructions. Set aside.\n",
                        "5. Place the marinated chicken breasts on the prepared baking sheet and roast in the preheated oven for 20-25 minutes or until cooked through and golden brown.\n",
                        "6. In the meantime, steam the broccoli florets until they are tender but still crisp. Set aside.\n",
                        "7. In a large skillet, melt butter over medium heat. Add minced garlic and sauté for 1-2 minutes until fragrant.\n",
                        "8. Add the cooked rice to the skillet and stir to combine. Pour in the chicken broth and bring to a simmer. Cook for 5 minutes or until the rice has absorbed the broth and is tender.\n",
                        "9. Once the chicken is cooked, remove it from the oven and let it rest for a few minutes. Slice it into thin strips.\n",
                        "10. Serve the sliced lemon garlic chicken over the lemon butter rice, and garnish with roasted broccoli and chopped parsley. Enjoy!\n",
                        "\n",
                        "Recipe 2: Chicken Stir-fry with Rice, Broccoli, Carrots, and Onions\n",
                        "\n",
                        "Ingredients:\n",
                        "- 4 chicken breasts, thinly sliced\n",
                        "- 1 cup rice\n",
                        "- 2 cups broccoli florets\n",
                        "- 1 cup carrots, julienned\n",
                        "- 1 cup onions, sliced\n",
                        "- 4 cloves garlic, minced\n",
                        "- Salt and pepper to taste\n",
                        "- 2 tablespoons olive oil\n",
                        "- 2 tablespoons soy sauce\n",
                        "- 1 tablespoon sesame oil\n",
                        "\n",
                        "Instructions:\n",
                        "1. Cook the rice according to package instructions. Set aside.\n",
                        "2. In a large skillet or wok, heat olive oil over medium-high heat. Add minced garlic and sauté for 1 minute until fragrant.\n",
                        "3. Add the sliced chicken breasts to the skillet and cook until browned and cooked through. Season with salt and pepper.\n",
                        "4. Remove the cooked chicken from the skillet and set aside.\n",
                        "5. In the same skillet, add a bit more oil if needed, and stir-fry the broccoli, carrots, and onions until tender-crisp.\n",
                        "6. Return the cooked chicken to the skillet and add soy sauce. Stir-fry for an additional 2-3 minutes to combine the flavors.\n",
                        "7. Drizzle sesame oil over the stir-fry and toss to coat evenly.\n",
                        "8. Serve the chicken stir-fry over cooked rice. Enjoy!\n",
                        "\n",
                        "Recipe 3: Herb Roasted Chicken with Lemon Butter Rice and Sautéed Vegetables\n",
                        "\n",
                        "Ingredients:\n",
                        "- 4 chicken breasts\n",
                        "- 1 cup rice\n",
                        "- 2 cups mixed vegetables (broccoli, carrots, onions)\n",
                        "- 4 cloves garlic, minced\n",
                        "- Salt and pepper to taste\n",
                        "- 2 tablespoons olive oil\n",
                        "- 2 tablespoons butter\n",
                        "- 1 tablespoon fresh parsley, chopped\n",
                        "- 1 lemon, juiced and zested\n",
                        "- 1 cup chicken broth\n",
                        "\n",
                        "Instructions:\n",
                        "1. Preheat your oven to 400°F (200°C).\n",
                        "2. In a small bowl, combine minced garlic, salt, pepper, olive oil, and chopped parsley to create a herb mixture.\n",
                        "3. Rub the herb mixture all over the chicken breasts, ensuring they are evenly coated.\n",
                        "4. Place the chicken breasts on a baking sheet and roast in the preheated oven for 20-25 minutes or until cooked through and golden brown.\n",
                        "5. While the chicken is roasting, cook the rice according to package instructions. Set aside.\n",
                        "6. In a large skillet, melt butter over medium heat. Add minced garlic and sauté for 1-2 minutes until fragrant.\n",
                        "7. Add the cooked rice to the skillet and stir to combine. Pour in the chicken broth and bring to a simmer. Cook for 5 minutes or until the rice has absorbed the broth and is tender.\n",
                        "8. In a separate skillet, heat olive oil over medium-high heat. Add the mixed vegetables (broccoli, carrots, onions) and sauté until tender.\n",
                        "9. Once the chicken is cooked, remove it from the oven and let it rest for a few minutes. Slice it into thin strips.\n",
                        "10. Serve the sliced herb roasted chicken over the lemon butter rice, and garnish with sautéed vegetables. Squeeze fresh lemon juice over the dish before serving. Enjoy!\n"
                    ]
                }
            ],
            "source": [
                "ingredients = \"\"\"\n",
                "chicken\n",
                "rice\n",
                "broccoli\n",
                "carrots\n",
                "onions\n",
                "garlic\n",
                "salt\n",
                "pepper\n",
                "olive oil\n",
                "butter\n",
                "parsley\n",
                "lemon\n",
                "chicken broth\n",
                "\"\"\"\n",
                "\n",
                "dishes_file = ai.io.FileReader(\"Possible Dishes File Reader\").set_input(file_path=\"possible_dishes_prompt.txt\")\n",
                "dishes_prompt = ai.tools.PromptBuilder(\"Possible Dishes Prompt\").set_input(template=dishes_file, ingredients=ingredients)\n",
                "dishes_llm = ai.tools.LLM(\"Possible Dishes LLM\").set_input(model_name=\"gpt-3.5-turbo\", prompt=dishes_prompt)\n",
                "\n",
                "dishes_file.process()\n",
                "dishes_prompt.process()\n",
                "dishes_llm.process()\n",
                "\n",
                "print(dishes_llm.get_output())\n",
                "\n",
                "recipe_maker_file = ai.io.FileReader(\"Recipe Maker File Reader\").set_input(file_path=\"recipe_maker_prompt.txt\")\n",
                "recipe_maker_prompt = ai.tools.PromptBuilder(\"Recipe Maker Prompt\").set_input(template=recipe_maker_file, dish=dishes_llm, ingredients=ingredients)\n",
                "recipe_maker_llm = ai.tools.LLM(\"Recipe Maker LLM\").set_input(model_name=\"gpt-3.5-turbo\", prompt=recipe_maker_prompt)\n",
                "\n",
                "recipe_maker_file.process()\n",
                "recipe_maker_prompt.process()\n",
                "recipe_maker_llm.process()\n",
                "\n",
                "print(recipe_maker_llm.get_output())"
            ]
        },
        {
            "cell_type": "code",
            "execution_count": null,
            "metadata": {},
            "outputs": [],
            "source": [
                "recipe_maker_file = ai.io.FileReader().set_input(file_path=\"recipe_makr_prompt.txt\")\n",
                "recipe_maker_prompt = ai.tools.PromptBuilder().set_input(template=recipe_maker_file, dish=dishes_llm, ingredients=ingredients)\n",
                "recipe_maker_llm = ai.tools.LLM().set_input(model_name=\"gpt-3.5-turbo\", prompt=recipe_maker_prompt)"
            ]
        },
        {
            "cell_type": "code",
            "execution_count": null,
            "metadata": {},
            "outputs": [],
            "source": [
                "dishes_file = ai.io.FileReader(\"Possible Dishes File Reader\").set_input(file_path=\"possible_dishes_prompt.txt\")\n",
                "dishes_prompt = ai.tools.PromptBuilder(\"Possible Dishes Prompt\").set_input(template=dishes_file)\n",
                "dishes_llm = ai.tools.LLM(\"Possible Dishes LLM\").set_input(model_name=\"gpt-3.5-turbo\", prompt=dishes_prompt)\n",
                "\n",
                "dish_generator = ai.flow.Process(\"Possible Dishes Process\")\n",
                "dish_generator.expose_output(dishes_llm)\n",
                "dish_generator.expose_input(\"ingredients\", dishes_prompt)\n",
                "\n",
                "dish_generator.ai_tools_in_process()\n",
                "\n",
                "\n",
                "# dish_generator.set_input(ingredients=ingredients)\n",
                "# dish_generator.process()\n",
                "# dish_generator.get_output()"
            ]
        }
    ],
    "metadata": {
        "kernelspec": {
            "display_name": "AIToolkitVenv",
            "language": "python",
            "name": "python3"
        },
        "language_info": {
            "codemirror_mode": {
                "name": "ipython",
                "version": 3
            },
            "file_extension": ".py",
            "mimetype": "text/x-python",
            "name": "python",
            "nbconvert_exporter": "python",
            "pygments_lexer": "ipython3",
            "version": "3.10.10"
        },
        "orig_nbformat": 4
    },
    "nbformat": 4,
    "nbformat_minor": 2
}
