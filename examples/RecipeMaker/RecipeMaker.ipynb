{
 "cells": [
  {
   "cell_type": "markdown",
   "metadata": {},
   "source": [
    "### Import statements"
   ]
  },
  {
   "cell_type": "code",
   "execution_count": 2,
   "metadata": {},
   "outputs": [],
   "source": [
    "import sys\n",
    "sys.path.insert(0, '/Users/ahell/Documents/Python Projects/AIToolkit')\n",
    "\n",
    "import os\n",
    "from dotenv import load_dotenv, find_dotenv\n",
    "from ai_toolkit import AIModel, PromptBuilder, FileReader, FileWriter, AIProcess, Function"
   ]
  },
  {
   "cell_type": "code",
   "execution_count": 3,
   "metadata": {},
   "outputs": [
    {
     "data": {
      "text/plain": [
       "True"
      ]
     },
     "execution_count": 3,
     "metadata": {},
     "output_type": "execute_result"
    }
   ],
   "source": [
    "# Load in the environment variables\n",
    "load_dotenv(find_dotenv())"
   ]
  },
  {
   "cell_type": "code",
   "execution_count": 4,
   "metadata": {},
   "outputs": [
    {
     "data": {
      "text/plain": [
       "['gpt-3.5-turbo',\n",
       " 'gpt-4',\n",
       " 'gpt-3.5-turbo-16k',\n",
       " 'claude-1',\n",
       " 'claude-1-100k',\n",
       " 'claude-instant-1',\n",
       " 'claude-instant-1-100k',\n",
       " 'respell-gpt-4-wrapper']"
      ]
     },
     "execution_count": 4,
     "metadata": {},
     "output_type": "execute_result"
    }
   ],
   "source": [
    "AIModel.ALL_MODEL_NAMES"
   ]
  },
  {
   "cell_type": "code",
   "execution_count": 6,
   "metadata": {},
   "outputs": [
    {
     "name": "stdout",
     "output_type": "stream",
     "text": [
      "[Possible Dishes Prompt (PromptBuilder), Possible Dishes LLM (AIModel), Possible Dishes JSON (Function), Possible Dishes File Writer (FileWriter), Possible Dishes File Reader (FileReader)]\n",
      "Processing Possible Dishes File Reader (FileReader)\n",
      "Processing Possible Dishes Prompt (PromptBuilder)\n",
      "Processing Possible Dishes LLM (AIModel)\n"
     ]
    },
    {
     "ename": "AINonRetryableError",
     "evalue": "assistant messages must be followed by a user message. Got assistant",
     "output_type": "error",
     "traceback": [
      "\u001b[0;31m---------------------------------------------------------------------------\u001b[0m",
      "\u001b[0;31mAINonRetryableError\u001b[0m                       Traceback (most recent call last)",
      "Cell \u001b[0;32mIn[6], line 14\u001b[0m\n\u001b[1;32m     11\u001b[0m \u001b[39mprint\u001b[39m(dish_generator\u001b[39m.\u001b[39mai_tools_in_process())\n\u001b[1;32m     13\u001b[0m dish_generator\u001b[39m.\u001b[39mset_input(ingredients\u001b[39m=\u001b[39m\u001b[39m\"\u001b[39m\u001b[39mchicken, rice, and broccoli\u001b[39m\u001b[39m\"\u001b[39m)\n\u001b[0;32m---> 14\u001b[0m dish_generator\u001b[39m.\u001b[39;49mprocess()\n\u001b[1;32m     15\u001b[0m dish_generator\u001b[39m.\u001b[39mget_output()\n\u001b[1;32m     19\u001b[0m \u001b[39m# dish_generator.set_input(ingredients=ingredients)\u001b[39;00m\n\u001b[1;32m     20\u001b[0m \u001b[39m# dish_generator.process()\u001b[39;00m\n\u001b[1;32m     21\u001b[0m \u001b[39m# dish_generator.get_output()\u001b[39;00m\n",
      "File \u001b[0;32m~/Documents/Python Projects/AIToolkit/ai_toolkit/ai_tool.py:28\u001b[0m, in \u001b[0;36mAITool.process\u001b[0;34m(self)\u001b[0m\n\u001b[1;32m     24\u001b[0m     \u001b[39mraise\u001b[39;00m AINonRetryableError(\u001b[39mf\u001b[39m\u001b[39m\"\u001b[39m\u001b[39mCannot process \u001b[39m\u001b[39m{\u001b[39;00m\u001b[39mself\u001b[39m\u001b[39m.\u001b[39m\u001b[39m__class__\u001b[39m\u001b[39m.\u001b[39m\u001b[39m__name__\u001b[39m\u001b[39m}\u001b[39;00m\u001b[39m because not all inputs are present.\u001b[39m\u001b[39m\\n\u001b[39;00m\u001b[39m \u001b[39m\u001b[39m\\\u001b[39;00m\n\u001b[1;32m     25\u001b[0m \u001b[39m                              Required inputs: \u001b[39m\u001b[39m{\u001b[39;00m\u001b[39mself\u001b[39m\u001b[39m.\u001b[39mrequired_input\u001b[39m}\u001b[39;00m\u001b[39m\\n\u001b[39;00m\u001b[39mDynamic inputs: \u001b[39m\u001b[39m{\u001b[39;00m\u001b[39mself\u001b[39m\u001b[39m.\u001b[39mdynamic_input\u001b[39m}\u001b[39;00m\u001b[39m\"\u001b[39m)\n\u001b[1;32m     27\u001b[0m \u001b[39mself\u001b[39m\u001b[39m.\u001b[39mdependents_received_output \u001b[39m=\u001b[39m \u001b[39mlist\u001b[39m()\n\u001b[0;32m---> 28\u001b[0m \u001b[39mself\u001b[39m\u001b[39m.\u001b[39moutput \u001b[39m=\u001b[39m \u001b[39mself\u001b[39;49m\u001b[39m.\u001b[39;49m_process()\n\u001b[1;32m     29\u001b[0m \u001b[39mreturn\u001b[39;00m \u001b[39mself\u001b[39m\n",
      "File \u001b[0;32m~/Documents/Python Projects/AIToolkit/ai_toolkit/ai_process.py:30\u001b[0m, in \u001b[0;36mAIProcess._process\u001b[0;34m(self)\u001b[0m\n\u001b[1;32m     28\u001b[0m \u001b[39mif\u001b[39;00m ai_tool\u001b[39m.\u001b[39mcan_process():\n\u001b[1;32m     29\u001b[0m     \u001b[39mprint\u001b[39m(\u001b[39mf\u001b[39m\u001b[39m\"\u001b[39m\u001b[39mProcessing \u001b[39m\u001b[39m{\u001b[39;00mai_tool\u001b[39m}\u001b[39;00m\u001b[39m\"\u001b[39m)\n\u001b[0;32m---> 30\u001b[0m     ai_tool\u001b[39m.\u001b[39;49mprocess()\n\u001b[1;32m     31\u001b[0m     processed_tools\u001b[39m.\u001b[39mappend(ai_tool)\n\u001b[1;32m     32\u001b[0m     still_processing \u001b[39m=\u001b[39m \u001b[39mTrue\u001b[39;00m\n",
      "File \u001b[0;32m~/Documents/Python Projects/AIToolkit/ai_toolkit/ai_tool.py:28\u001b[0m, in \u001b[0;36mAITool.process\u001b[0;34m(self)\u001b[0m\n\u001b[1;32m     24\u001b[0m     \u001b[39mraise\u001b[39;00m AINonRetryableError(\u001b[39mf\u001b[39m\u001b[39m\"\u001b[39m\u001b[39mCannot process \u001b[39m\u001b[39m{\u001b[39;00m\u001b[39mself\u001b[39m\u001b[39m.\u001b[39m\u001b[39m__class__\u001b[39m\u001b[39m.\u001b[39m\u001b[39m__name__\u001b[39m\u001b[39m}\u001b[39;00m\u001b[39m because not all inputs are present.\u001b[39m\u001b[39m\\n\u001b[39;00m\u001b[39m \u001b[39m\u001b[39m\\\u001b[39;00m\n\u001b[1;32m     25\u001b[0m \u001b[39m                              Required inputs: \u001b[39m\u001b[39m{\u001b[39;00m\u001b[39mself\u001b[39m\u001b[39m.\u001b[39mrequired_input\u001b[39m}\u001b[39;00m\u001b[39m\\n\u001b[39;00m\u001b[39mDynamic inputs: \u001b[39m\u001b[39m{\u001b[39;00m\u001b[39mself\u001b[39m\u001b[39m.\u001b[39mdynamic_input\u001b[39m}\u001b[39;00m\u001b[39m\"\u001b[39m)\n\u001b[1;32m     27\u001b[0m \u001b[39mself\u001b[39m\u001b[39m.\u001b[39mdependents_received_output \u001b[39m=\u001b[39m \u001b[39mlist\u001b[39m()\n\u001b[0;32m---> 28\u001b[0m \u001b[39mself\u001b[39m\u001b[39m.\u001b[39moutput \u001b[39m=\u001b[39m \u001b[39mself\u001b[39;49m\u001b[39m.\u001b[39;49m_process()\n\u001b[1;32m     29\u001b[0m \u001b[39mreturn\u001b[39;00m \u001b[39mself\u001b[39m\n",
      "File \u001b[0;32m~/Documents/Python Projects/AIToolkit/ai_toolkit/tools/ai_model.py:42\u001b[0m, in \u001b[0;36mAIModel._process\u001b[0;34m(self)\u001b[0m\n\u001b[1;32m     39\u001b[0m temperature \u001b[39m=\u001b[39m \u001b[39mfloat\u001b[39m(temperature)\n\u001b[1;32m     41\u001b[0m messages \u001b[39m=\u001b[39m \u001b[39mself\u001b[39m\u001b[39m.\u001b[39m_messages_from_text(prompt)\n\u001b[0;32m---> 42\u001b[0m \u001b[39mself\u001b[39;49m\u001b[39m.\u001b[39;49m_assert_message_formatting(messages)\n\u001b[1;32m     44\u001b[0m \u001b[39mif\u001b[39;00m model_name \u001b[39min\u001b[39;00m \u001b[39mself\u001b[39m\u001b[39m.\u001b[39mOPENAI_MODEL_NAMES:\n\u001b[1;32m     45\u001b[0m     \u001b[39mreturn\u001b[39;00m \u001b[39mself\u001b[39m\u001b[39m.\u001b[39m_get_completion_openai(model_name, messages, max_tokens, temperature)\n",
      "File \u001b[0;32m~/Documents/Python Projects/AIToolkit/ai_toolkit/tools/ai_model.py:65\u001b[0m, in \u001b[0;36mAIModel._assert_message_formatting\u001b[0;34m(messages)\u001b[0m\n\u001b[1;32m     63\u001b[0m         \u001b[39mraise\u001b[39;00m AINonRetryableError(\u001b[39mf\u001b[39m\u001b[39m\"\u001b[39m\u001b[39muser messages must be followed by an assistant message. Got \u001b[39m\u001b[39m{\u001b[39;00mcurrent_role\u001b[39m}\u001b[39;00m\u001b[39m\"\u001b[39m)\n\u001b[1;32m     64\u001b[0m     \u001b[39melif\u001b[39;00m prior_role \u001b[39m==\u001b[39m \u001b[39m\"\u001b[39m\u001b[39massistant\u001b[39m\u001b[39m\"\u001b[39m \u001b[39mand\u001b[39;00m current_role \u001b[39m!=\u001b[39m \u001b[39m\"\u001b[39m\u001b[39muser\u001b[39m\u001b[39m\"\u001b[39m:\n\u001b[0;32m---> 65\u001b[0m         \u001b[39mraise\u001b[39;00m AINonRetryableError(\u001b[39mf\u001b[39m\u001b[39m\"\u001b[39m\u001b[39massistant messages must be followed by a user message. Got \u001b[39m\u001b[39m{\u001b[39;00mcurrent_role\u001b[39m}\u001b[39;00m\u001b[39m\"\u001b[39m)\n\u001b[1;32m     67\u001b[0m     prior_role \u001b[39m=\u001b[39m current_role\n\u001b[1;32m     69\u001b[0m \u001b[39mif\u001b[39;00m prior_role \u001b[39m!=\u001b[39m \u001b[39m\"\u001b[39m\u001b[39muser\u001b[39m\u001b[39m\"\u001b[39m:\n",
      "\u001b[0;31mAINonRetryableError\u001b[0m: assistant messages must be followed by a user message. Got assistant"
     ]
    }
   ],
   "source": [
    "dishes_file = FileReader(\"Possible Dishes File Reader\").set_input(file_path=\"possible_dishes_prompt.txt\")\n",
    "dishes_prompt = PromptBuilder(\"Possible Dishes Prompt\").set_input(template=dishes_file)\n",
    "dishes_llm = AIModel(\"Possible Dishes LLM\").set_input(model_name=\"gpt-3.5-turbo\", prompt=dishes_prompt)\n",
    "dishes_json = Function(\"Possible Dishes JSON\").set_input(function=\"convert_to_json\", input=dishes_llm)\n",
    "dishes_file_writer = FileWriter(\"Possible Dishes File Writer\").set_input(file_path=\"possible_dishes.json\", data=dishes_json)\n",
    "\n",
    "dish_generator = AIProcess(\"Possible Dishes Process\")\n",
    "dish_generator.expose_output(dishes_json)\n",
    "dish_generator.expose_input(\"ingredients\", dishes_prompt)\n",
    "\n",
    "print(dish_generator.ai_tools_in_process())\n",
    "\n",
    "dish_generator.set_input(ingredients=\"chicken, rice, and broccoli\")\n",
    "dish_generator.process()\n",
    "dish_generator.get_output()\n",
    "\n",
    "\n",
    "\n",
    "# dish_generator.set_input(ingredients=ingredients)\n",
    "# dish_generator.process()\n",
    "# dish_generator.get_output()"
   ]
  },
  {
   "cell_type": "code",
   "execution_count": 15,
   "metadata": {},
   "outputs": [
    {
     "name": "stdout",
     "output_type": "stream",
     "text": [
      "[]\n"
     ]
    },
    {
     "data": {
      "text/plain": [
       "True"
      ]
     },
     "execution_count": 15,
     "metadata": {},
     "output_type": "execute_result"
    }
   ],
   "source": [
    "print(dishes_file.dependents_received_output)\n",
    "dishes_file._has_single_output(dishes_prompt)\n",
    "dishes_prompt.can_process()"
   ]
  },
  {
   "cell_type": "markdown",
   "metadata": {},
   "source": [
    "### Code"
   ]
  },
  {
   "cell_type": "code",
   "execution_count": null,
   "metadata": {},
   "outputs": [],
   "source": [
    "ingredients = \"\"\"\n",
    "chicken\n",
    "rice\n",
    "broccoli\n",
    "carrots\n",
    "onions\n",
    "garlic\n",
    "salt\n",
    "pepper\n",
    "olive oil\n",
    "butter\n",
    "parsley\n",
    "lemon\n",
    "chicken broth\n",
    "\"\"\"\n",
    "\n",
    "dishes_file = FileReader(\"Possible Dishes File Reader\").set_input(file_path=\"possible_dishes_prompt.txt\")\n",
    "dishes_prompt = PromptBuilder(\"Possible Dishes Prompt\").set_input(template=dishes_file, ingredients=ingredients)\n",
    "dishes_llm = AIModel(\"Possible Dishes LLM\").set_input(model_name=\"gpt-3.5-turbo\", prompt=dishes_prompt)\n",
    "\n",
    "dishes_file.process()\n",
    "dishes_prompt.process()\n",
    "dishes_llm.process()\n",
    "\n",
    "print(dishes_llm.get_output())\n",
    "\n",
    "recipe_maker_file = FileReader().set_input(file_path=\"recipe_maker_prompt.txt\")\n",
    "recipe_maker_prompt = PromptBuilder().set_input(template=recipe_maker_file, dish=dishes_llm, ingredients=ingredients)\n",
    "recipe_maker_ai_model = AIModel().set_input(model_name=\"gpt-3.5-turbo\", prompt=recipe_maker_prompt)\n",
    "\n",
    "recipe_maker_file.process()\n",
    "recipe_maker_prompt.process()\n",
    "recipe_maker_ai_model.process()"
   ]
  },
  {
   "cell_type": "code",
   "execution_count": null,
   "metadata": {},
   "outputs": [],
   "source": [
    "recipe_maker_file = FileReader().set_input(file_path=\"recipe_makr_prompt.txt\")\n",
    "recipe_maker_prompt = PromptBuilder().set_input(template=recipe_maker_file, dish=dishes_ai_model, ingredients=ingredients)\n",
    "recipe_maker_ai_model = AIModel().set_input(model_name=\"gpt-3.5-turbo\", prompt=recipe_maker_prompt)"
   ]
  },
  {
   "cell_type": "code",
   "execution_count": null,
   "metadata": {},
   "outputs": [],
   "source": [
    "dishes_file = FileReader(\"Possible Dishes File Reader\").set_input(file_path=\"possible_dishes_prompt.txt\")\n",
    "dishes_prompt = PromptBuilder(\"Possible Dishes Prompt\").set_input(template=dishes_file)\n",
    "dishes_llm = AIModel(\"Possible Dishes LLM\").set_input(model_name=\"gpt-3.5-turbo\", prompt=dishes_prompt)\n",
    "\n",
    "dish_generator = AIProcess(\"Possible Dishes Process\")\n",
    "dish_generator.expose_output(dishes_llm)\n",
    "dish_generator.expose_input(\"ingredients\", dishes_prompt)\n",
    "\n",
    "dish_generator.ai_tools_in_process()\n",
    "\n",
    "\n",
    "# dish_generator.set_input(ingredients=ingredients)\n",
    "# dish_generator.process()\n",
    "# dish_generator.get_output()"
   ]
  }
 ],
 "metadata": {
  "kernelspec": {
   "display_name": "AIToolkitVenv",
   "language": "python",
   "name": "python3"
  },
  "language_info": {
   "codemirror_mode": {
    "name": "ipython",
    "version": 3
   },
   "file_extension": ".py",
   "mimetype": "text/x-python",
   "name": "python",
   "nbconvert_exporter": "python",
   "pygments_lexer": "ipython3",
   "version": "3.10.10"
  },
  "orig_nbformat": 4
 },
 "nbformat": 4,
 "nbformat_minor": 2
}
