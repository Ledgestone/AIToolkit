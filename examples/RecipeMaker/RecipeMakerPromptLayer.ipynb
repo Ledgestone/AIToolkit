{
    "cells": [
        {
            "cell_type": "markdown",
            "metadata": {},
            "source": [
                "### Import statements"
            ]
        },
        {
            "cell_type": "code",
            "execution_count": 1,
            "metadata": {},
            "outputs": [],
            "source": [
                "import sys\n",
                "sys.path.insert(0, '/Users/ahell/Documents/Python Projects/AIToolkit')\n",
                "\n",
                "import os\n",
                "from dotenv import load_dotenv, find_dotenv\n",
                "import ai_toolkit as ai"
            ]
        },
        {
            "cell_type": "code",
            "execution_count": 2,
            "metadata": {},
            "outputs": [
                {
                    "data": {
                        "text/plain": [
                            "True"
                        ]
                    },
                    "execution_count": 2,
                    "metadata": {},
                    "output_type": "execute_result"
                }
            ],
            "source": [
                "# Load in the environment variables\n",
                "load_dotenv(find_dotenv())"
            ]
        },
        {
            "cell_type": "code",
            "execution_count": 3,
            "metadata": {},
            "outputs": [
                {
                    "data": {
                        "text/plain": [
                            "['gpt-3.5-turbo',\n",
                            " 'gpt-4',\n",
                            " 'gpt-3.5-turbo-16k',\n",
                            " 'claude-1',\n",
                            " 'claude-1-100k',\n",
                            " 'claude-instant-1',\n",
                            " 'claude-instant-1-100k',\n",
                            " 'claude-2',\n",
                            " 'respell-gpt-4-wrapper']"
                        ]
                    },
                    "execution_count": 3,
                    "metadata": {},
                    "output_type": "execute_result"
                }
            ],
            "source": [
                "ai.tools.LLM.ALL_MODEL_NAMES"
            ]
        },
        {
            "cell_type": "markdown",
            "metadata": {},
            "source": [
                "### Code"
            ]
        },
        {
            "cell_type": "code",
            "execution_count": 4,
            "metadata": {},
            "outputs": [],
            "source": [
                "# dishes_llm = ai.composed.LLMWithPromptRetrievalAndTracking(\"Possible Dishes LLM\").set_input(\n",
                "#     template_name=\"Possible Dishes\",\n",
                "#     model_name=\"gpt-3.5-turbo\",\n",
                "#     promptlayer_tags=[\"Test\"],\n",
                "#     metadata={\"source\": \"RecipeMakerPromptLayer.ipynb\"},\n",
                "# )\n",
                "# dishes_json = ai.operations.ConvertToJSON(\"Possible Dishes JSON\").set_input(input=dishes_llm)\n",
                "# dishes_file_writer = ai.io.FileWriter(\"Possible Dishes File Writer\").set_input(file_path=\"possible_dishes.json\", data=dishes_json)\n",
                "\n",
                "# dish_generator = ai.flow.Process(\"Possible Dishes Process\")\n",
                "# dish_generator.expose_output(dishes_json)\n",
                "# dish_generator.expose_input(\"replacements\", dishes_llm)\n",
                "\n",
                "# print(dish_generator.ai_tools_in_process())\n",
                "\n",
                "# dish_generator.set_input(replacements={\"ingredients\": \"bacon\\neggs\\ncheese\\nbaby potatoes\\nfresh cilantro\"})\n",
                "# dish_generator.process()\n",
                "# dish_generator.get_output()\n"
            ]
        },
        {
            "cell_type": "code",
            "execution_count": 5,
            "metadata": {},
            "outputs": [],
            "source": [
                "# dishes_llm.get_output()"
            ]
        },
        {
            "cell_type": "code",
            "execution_count": 11,
            "metadata": {},
            "outputs": [
                {
                    "name": "stdout",
                    "output_type": "stream",
                    "text": [
                        "Processing Correcting JSON Parser (Passthrough)\n",
                        "Processing Correcting JSON Parser (CanConvertToJSON)\n",
                        "Processing Correcting JSON Parser - Can Convert Bool (ExtractKey)\n",
                        "Processing Correcting JSON Parser - Error Message (ExtractKey)\n",
                        "Processing Correcting JSON Parser (Conditional)\n",
                        "Processing Correcting JSON Parser (ConvertToJSON)\n"
                    ]
                },
                {
                    "data": {
                        "text/plain": [
                            "['Bacon, Egg, and Cheese Stuffed Baby Potatoes',\n",
                            " 'Cheesy Bacon and Egg \"Breakfast\" Quesadillas',\n",
                            " 'Cilantro and Cheese Stuffed Bacon-Wrapped Potatoes']"
                        ]
                    },
                    "execution_count": 11,
                    "metadata": {},
                    "output_type": "execute_result"
                }
            ],
            "source": [
                "malformed_json = '[\"Bacon, Egg, and Cheese Stuffed Baby Potatoes\", \"Cheesy Bacon and Egg \\\\\\\"Breakfast\\\\\\\" Quesadillas\", \"Cilantro and Cheese Stuffed Bacon-Wrapped Potatoes\"]'\n",
                "# malformed_json = '{\"animals\": [\"dog\", \"cat\", \"bird\", \"turtle\"] \"size\": \"large\"}'\n",
                "\n",
                "correcting_json_parser = ai.composed.CorrectingJSONParser(\"Correcting JSON Parser\").set_input(\n",
                "    json_string=malformed_json,\n",
                "    promptlayer_tags=[\"Test\"],\n",
                "    metadata={\"source\": \"RecipeMakerPromptLayer.ipynb\"},\n",
                "    model_name=\"gpt-3.5-turbo\",\n",
                ")\n",
                "correcting_json_parser.process()\n",
                "correcting_json_parser.get_output()"
            ]
        },
        {
            "cell_type": "code",
            "execution_count": null,
            "metadata": {},
            "outputs": [
                {
                    "data": {
                        "text/plain": [
                            "Correcting JSON Parser (Conditional)"
                        ]
                    },
                    "execution_count": 27,
                    "metadata": {},
                    "output_type": "execute_result"
                }
            ],
            "source": [
                "correcting_json_parser.output_tool\n",
                "#correcting_json_parser.output_tool.can_process()"
            ]
        },
        {
            "cell_type": "code",
            "execution_count": null,
            "metadata": {},
            "outputs": [
                {
                    "data": {
                        "text/plain": [
                            "'metadata'"
                        ]
                    },
                    "execution_count": 26,
                    "metadata": {},
                    "output_type": "execute_result"
                }
            ],
            "source": [
                "correcting_json_parser.process_inputs['metadata'].input_key"
            ]
        },
        {
            "cell_type": "code",
            "execution_count": null,
            "metadata": {},
            "outputs": [
                {
                    "data": {
                        "text/plain": [
                            "False"
                        ]
                    },
                    "execution_count": 9,
                    "metadata": {},
                    "output_type": "execute_result"
                }
            ],
            "source": [
                "correcting_json_parser.output_tool.can_process()"
            ]
        }
    ],
    "metadata": {
        "kernelspec": {
            "display_name": "AIToolkitVenv",
            "language": "python",
            "name": "python3"
        },
        "language_info": {
            "codemirror_mode": {
                "name": "ipython",
                "version": 3
            },
            "file_extension": ".py",
            "mimetype": "text/x-python",
            "name": "python",
            "nbconvert_exporter": "python",
            "pygments_lexer": "ipython3",
            "version": "3.10.10"
        },
        "orig_nbformat": 4
    },
    "nbformat": 4,
    "nbformat_minor": 2
}
