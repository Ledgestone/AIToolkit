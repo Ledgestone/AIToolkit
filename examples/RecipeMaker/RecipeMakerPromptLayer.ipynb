{
 "cells": [
  {
   "cell_type": "markdown",
   "metadata": {},
   "source": [
    "### Import statements"
   ]
  },
  {
   "cell_type": "code",
   "execution_count": 6,
   "metadata": {},
   "outputs": [],
   "source": [
    "import sys\n",
    "sys.path.insert(0, '/Users/ahell/Documents/Python Projects/AIToolkit')\n",
    "\n",
    "import os\n",
    "from dotenv import load_dotenv, find_dotenv\n",
    "import ai_toolkit as ai"
   ]
  },
  {
   "cell_type": "code",
   "execution_count": 7,
   "metadata": {},
   "outputs": [
    {
     "data": {
      "text/plain": [
       "True"
      ]
     },
     "execution_count": 7,
     "metadata": {},
     "output_type": "execute_result"
    }
   ],
   "source": [
    "# Load in the environment variables\n",
    "load_dotenv(find_dotenv())"
   ]
  },
  {
   "cell_type": "code",
   "execution_count": 8,
   "metadata": {},
   "outputs": [
    {
     "data": {
      "text/plain": [
       "['gpt-3.5-turbo',\n",
       " 'gpt-4',\n",
       " 'gpt-3.5-turbo-16k',\n",
       " 'claude-1',\n",
       " 'claude-1-100k',\n",
       " 'claude-instant-1',\n",
       " 'claude-instant-1-100k',\n",
       " 'claude-2',\n",
       " 'respell-gpt-4-wrapper']"
      ]
     },
     "execution_count": 8,
     "metadata": {},
     "output_type": "execute_result"
    }
   ],
   "source": [
    "ai.tools.LLM.ALL_MODEL_NAMES"
   ]
  },
  {
   "cell_type": "markdown",
   "metadata": {},
   "source": [
    "### Code"
   ]
  },
  {
   "cell_type": "code",
   "execution_count": 11,
   "metadata": {},
   "outputs": [
    {
     "name": "stdout",
     "output_type": "stream",
     "text": [
      "[Possible Dishes LLM (AIProcess), Possible Dishes JSON (ConvertToJSON), Possible Dishes File Writer (FileWriter)]\n",
      "Processing Possible Dishes LLM (AIProcess)\n",
      "Processing Possible Dishes LLM (PromptLayerRegistry)\n",
      "Processing Possible Dishes LLM (PromptBuilder)\n",
      "Processing Possible Dishes LLM (AIModel)\n",
      "Processing Possible Dishes LLM (ExtractKey)\n",
      "Processing Possible Dishes LLM (PromptLayerMetadataTracker)\n",
      "Processing Possible Dishes LLM (ExtractKey)\n",
      "Processing Possible Dishes LLM (Passthrough)\n",
      "Processing Possible Dishes LLM (PromptLayerPromptTracker)\n",
      "Processing Possible Dishes JSON (ConvertToJSON)\n",
      "Processing Possible Dishes File Writer (FileWriter)\n"
     ]
    },
    {
     "data": {
      "text/plain": [
       "['Chicken Alfredo Broccoli Rice Casserole',\n",
       " 'Cheesy Chicken and Broccoli Stir-fry over Rice',\n",
       " 'Alfredo Stuffed Chicken Breast with Broccoli and Cheese Rice']"
      ]
     },
     "execution_count": 11,
     "metadata": {},
     "output_type": "execute_result"
    }
   ],
   "source": [
    "dishes_llm = ai.composed.LLMWithPromptRetrievalAndTracking(\"Possible Dishes LLM\").set_input(\n",
    "    template_name=\"Possible Dishes\",\n",
    "    model_name=\"respell-gpt-4-wrapper\",\n",
    "    promptlayer_tags=[\"Test\"],\n",
    "    metadata={\"source\": \"RecipeMakerPromptLayer.ipynb\"},\n",
    ")\n",
    "dishes_json = ai.operations.ConvertToJSON(\"Possible Dishes JSON\").set_input(input=dishes_llm)\n",
    "dishes_file_writer = ai.io.FileWriter(\"Possible Dishes File Writer\").set_input(file_path=\"possible_dishes.json\", data=dishes_json)\n",
    "\n",
    "dish_generator = ai.AIProcess(\"Possible Dishes Process\")\n",
    "dish_generator.expose_output(dishes_json)\n",
    "dish_generator.expose_input(\"replacements\", dishes_llm)\n",
    "\n",
    "print(dish_generator.ai_tools_in_process())\n",
    "\n",
    "dish_generator.set_input(replacements={\"ingredients\": \"chicken breast tenderloins\\nrice\\nbroccoli\\nalfredo sauce\\nshredded cheese\"})\n",
    "dish_generator.process()\n",
    "dish_generator.get_output()\n"
   ]
  }
 ],
 "metadata": {
  "kernelspec": {
   "display_name": "AIToolkitVenv",
   "language": "python",
   "name": "python3"
  },
  "language_info": {
   "codemirror_mode": {
    "name": "ipython",
    "version": 3
   },
   "file_extension": ".py",
   "mimetype": "text/x-python",
   "name": "python",
   "nbconvert_exporter": "python",
   "pygments_lexer": "ipython3",
   "version": "3.10.10"
  },
  "orig_nbformat": 4
 },
 "nbformat": 4,
 "nbformat_minor": 2
}
