{
    "cells": [
        {
            "cell_type": "markdown",
            "metadata": {},
            "source": [
                "### Import statements"
            ]
        },
        {
            "cell_type": "code",
            "execution_count": 1,
            "metadata": {},
            "outputs": [],
            "source": [
                "import sys\n",
                "sys.path.insert(0, '/Users/ahell/Documents/Python Projects/AIToolkit')\n",
                "\n",
                "import os\n",
                "import time\n",
                "from dotenv import load_dotenv, find_dotenv\n",
                "import ai_toolkit as ai"
            ]
        },
        {
            "cell_type": "code",
            "execution_count": 2,
            "metadata": {},
            "outputs": [
                {
                    "data": {
                        "text/plain": [
                            "True"
                        ]
                    },
                    "execution_count": 2,
                    "metadata": {},
                    "output_type": "execute_result"
                }
            ],
            "source": [
                "# Load in the environment variables\n",
                "load_dotenv(find_dotenv())"
            ]
        },
        {
            "cell_type": "code",
            "execution_count": 3,
            "metadata": {},
            "outputs": [
                {
                    "data": {
                        "text/plain": [
                            "['gpt-3.5-turbo',\n",
                            " 'gpt-4',\n",
                            " 'gpt-3.5-turbo-16k',\n",
                            " 'gpt-4-1106-preview',\n",
                            " 'gpt-3.5-turbo-1106',\n",
                            " 'claude-1',\n",
                            " 'claude-1-100k',\n",
                            " 'claude-instant-1',\n",
                            " 'claude-instant-1-100k',\n",
                            " 'claude-2',\n",
                            " 'respell-gpt-4-wrapper']"
                        ]
                    },
                    "execution_count": 3,
                    "metadata": {},
                    "output_type": "execute_result"
                }
            ],
            "source": [
                "ai.tools.LLM.ALL_MODEL_NAMES"
            ]
        },
        {
            "cell_type": "markdown",
            "metadata": {},
            "source": [
                "### Code"
            ]
        },
        {
            "cell_type": "code",
            "execution_count": 4,
            "metadata": {},
            "outputs": [
                {
                    "name": "stdout",
                    "output_type": "stream",
                    "text": [
                        "Processing Possible Dishes File Reader (FileReader)\n",
                        "Processing Possible Dishes Prompt (PromptBuilder)\n",
                        "Processing Possible Dishes LLM (LLM)\n",
                        "Processing Possible Dishes JSON (ConvertToJSON)\n",
                        "Processing Possible Dishes File Writer (FileWriter)\n",
                        "Output: ['Teriyaki Chicken with Broccoli and Rice', 'Chicken and Broccoli Stir-fry with Garlic Rice', 'Baked Lemon Herb Chicken with Broccoli and Rice Pilaf']\n",
                        "Time to run (before cache): 1.5505790830065962\n",
                        "Output: ['Teriyaki Chicken with Broccoli and Rice', 'Chicken and Broccoli Stir-fry with Garlic Rice', 'Baked Lemon Herb Chicken with Broccoli and Rice Pilaf']\n",
                        "Time to run (after cache): 0.00010974999167956412\n",
                        "Processing Possible Dishes File Reader (FileReader)\n",
                        "Processing Possible Dishes Prompt (PromptBuilder)\n",
                        "Processing Possible Dishes LLM (LLM)\n",
                        "Processing Possible Dishes JSON (ConvertToJSON)\n",
                        "Processing Possible Dishes File Writer (FileWriter)\n",
                        "Output: ['Slow Cooker Beef Stew with Potatoes and Carrots', 'Beef and Potato Curry with Carrots', 'Roasted Beef with Garlic Mashed Potatoes and Glazed Carrots']\n",
                        "Time to run (different input): 1.4920339999953285\n"
                    ]
                }
            ],
            "source": [
                "dishes_file = ai.io.FileReader(\"Possible Dishes File Reader\").set_input(file_path=\"possible_dishes_prompt.txt\")\n",
                "dishes_prompt = ai.tools.PromptBuilder(\"Possible Dishes Prompt\").set_input(template=dishes_file)\n",
                "dishes_llm = ai.tools.LLM(\"Possible Dishes LLM\").set_input(model_name=\"gpt-3.5-turbo\", prompt=dishes_prompt)\n",
                "dishes_json = ai.operations.ConvertToJSON(\"Possible Dishes JSON\").set_input(input=dishes_llm)\n",
                "dishes_file_writer = ai.io.FileWriter(\"Possible Dishes File Writer\").set_input(file_path=\"possible_dishes.json\", data=dishes_json)\n",
                "\n",
                "dish_generator = ai.flow.CachingProcess(\"Possible Dishes Process\")\n",
                "dish_generator.expose_output(dishes_json)\n",
                "dish_generator.expose_input(\"ingredients\", dishes_prompt)\n",
                "\n",
                "start = time.perf_counter()\n",
                "\n",
                "dish_generator.set_input(ingredients=\"chicken, rice, and broccoli\")\n",
                "dish_generator.process()\n",
                "dish_generator.get_output()\n",
                "\n",
                "end = time.perf_counter()\n",
                "print(f\"Output: {dish_generator.get_output()}\")\n",
                "print(f\"Time to run (before cache): {end - start}\")\n",
                "\n",
                "start = time.perf_counter()\n",
                "\n",
                "dish_generator.set_input(ingredients=\"chicken, rice, and broccoli\")\n",
                "dish_generator.process()\n",
                "dish_generator.get_output()\n",
                "\n",
                "end = time.perf_counter()\n",
                "print(f\"Output: {dish_generator.get_output()}\")\n",
                "print(f\"Time to run (after cache): {end - start}\")\n",
                "\n",
                "start = time.perf_counter()\n",
                "\n",
                "dish_generator.set_input(ingredients=\"beef, potatoes, and carrots\")\n",
                "dish_generator.process()\n",
                "dish_generator.get_output()\n",
                "\n",
                "end = time.perf_counter()\n",
                "print(f\"Output: {dish_generator.get_output()}\")\n",
                "print(f\"Time to run (different input): {end - start}\")"
            ]
        }
    ],
    "metadata": {
        "kernelspec": {
            "display_name": "AIToolkitVenv",
            "language": "python",
            "name": "python3"
        },
        "language_info": {
            "codemirror_mode": {
                "name": "ipython",
                "version": 3
            },
            "file_extension": ".py",
            "mimetype": "text/x-python",
            "name": "python",
            "nbconvert_exporter": "python",
            "pygments_lexer": "ipython3",
            "version": "3.10.10"
        },
        "orig_nbformat": 4
    },
    "nbformat": 4,
    "nbformat_minor": 2
}
