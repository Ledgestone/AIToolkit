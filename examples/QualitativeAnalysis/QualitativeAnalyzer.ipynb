{
 "cells": [
  {
   "cell_type": "markdown",
   "metadata": {},
   "source": [
    "## Import statements"
   ]
  },
  {
   "cell_type": "code",
   "execution_count": 1,
   "metadata": {},
   "outputs": [],
   "source": [
    "import sys\n",
    "sys.path.insert(0, '/Users/ahell/Documents/Python Projects/AIToolkit')\n",
    "\n",
    "import os\n",
    "from dotenv import load_dotenv, find_dotenv\n",
    "import ai_toolkit as ai\n",
    "from IPython.display import display, Markdown, HTML, clear_output"
   ]
  },
  {
   "cell_type": "code",
   "execution_count": 2,
   "metadata": {},
   "outputs": [
    {
     "data": {
      "text/plain": [
       "True"
      ]
     },
     "execution_count": 2,
     "metadata": {},
     "output_type": "execute_result"
    }
   ],
   "source": [
    "# Load in the environment variables\n",
    "load_dotenv(find_dotenv())"
   ]
  },
  {
   "cell_type": "code",
   "execution_count": 3,
   "metadata": {},
   "outputs": [
    {
     "data": {
      "text/plain": [
       "['gpt-3.5-turbo',\n",
       " 'gpt-4',\n",
       " 'gpt-3.5-turbo-16k',\n",
       " 'claude-1',\n",
       " 'claude-1-100k',\n",
       " 'claude-instant-1',\n",
       " 'claude-instant-1-100k',\n",
       " 'claude-2',\n",
       " 'respell-gpt-4-wrapper']"
      ]
     },
     "execution_count": 3,
     "metadata": {},
     "output_type": "execute_result"
    }
   ],
   "source": [
    "ai.tools.AIModel.ALL_MODEL_NAMES"
   ]
  },
  {
   "cell_type": "code",
   "execution_count": 4,
   "metadata": {},
   "outputs": [],
   "source": [
    "client_survey_id = 'adf4f406-757c-4e7d-b881-add3de4bbaf4'\n",
    "client_name = 'Marcfirst'"
   ]
  },
  {
   "cell_type": "markdown",
   "metadata": {},
   "source": [
    "## Dimension Analysis"
   ]
  },
  {
   "cell_type": "code",
   "execution_count": 5,
   "metadata": {},
   "outputs": [
    {
     "data": {
      "text/plain": [
       "Comments Request (APIRequest)"
      ]
     },
     "execution_count": 5,
     "metadata": {},
     "output_type": "execute_result"
    }
   ],
   "source": [
    "request_url = f\"https://dev-api.insite.ledgestone.com/api/results/comments/{client_survey_id}/nps_justification\"\n",
    "request_method = \"GET\"\n",
    "request_headers = {\n",
    "    \"Authorization\": f\"Bearer {os.environ['BEARER_TOKEN']}\",\n",
    "    \"Content-Type\": \"application/json\"\n",
    "}\n",
    "comments_request = ai.io.APIRequest(\"Comments Request\").set_input(\n",
    "    url=request_url, method=request_method, headers=request_headers)\n",
    "comments_request.process()"
   ]
  },
  {
   "cell_type": "code",
   "execution_count": 6,
   "metadata": {},
   "outputs": [
    {
     "name": "stdout",
     "output_type": "stream",
     "text": [
      "[{'prompt': 'What specific factors or experiences make you highly likely to recommend our company as a great place to work?', 'comment': 'Working with great residents ', 'nps_category': 'promoter', 'comment_number': 1, 'prompt_response_id': '00fe91ed-7aba-4605-94be-bbe8237a00e7'}, {'prompt': 'What specific factors or experiences make you highly likely to recommend our company as a great place to work?', 'comment': 'I love our values and mission. I believe leadership truly cares about me.', 'nps_category': 'promoter', 'comment_number': 2, 'prompt_response_id': '0858793c-79a5-4665-8d59-e6f3926ec6c8'}, {'prompt': 'What would our company need to do in order to get a rating of extremely likely?', 'comment': \"Rather than spend money on rebranding the company, invest in creating a non-toxic work environment.  There is a sense of exclusion among non-leadership staff and morale continues to suffer as a result.  Bring in a neutral third party to conduct a comprehensive assessment of our workplace environment.  The current perception of leadership is that of a closed clique which lacks guidance, support, and recognition for non-leadership staff.\\nInvest in achieving a diverse and inclusive leadership team that reflects our workforce and society as a whole.  Have a leadership team representative of various backgrounds and experiences.   Implement diversity and inclusion initiatives in order to retain and attract diverse talent.\\n\\nLeadership must find effective ways for staff to support our clients who do not cooperate with the use of a hoyer or those who have a propensity to fall, without subjecting staff to physical strain/injury or violating safety regulations. Leadership must implement and assist all staff in following honest, sustainable, safe care practices that align with our mission and values.\\n\\nStaff members including leadership receive comprehensive training in cases where their behavior is unprofessional, neglectful, or derogatory towards the individuals we serve as well as other staff members.\\n\\nFinally, Thankful Thursday emails should recognize and appreciate the tireless efforts of the staff who form the bedrock of our organization.  It seems the focus has shifted towards leadership celebrating one another's achievements.  Staff deserve meaningful recognition from those in leadership positions.  By doing so we not only boost morale but reinforce the value that should be placed on every staff member.\", 'nps_category': 'detractor', 'comment_number': 3, 'prompt_response_id': '193f7d97-d88b-4ad5-a50a-af15ac7ce53d'}, {'prompt': 'What specific factors or experiences make you highly likely to recommend our company as a great place to work?', 'comment': 'The leadership team makes a conscious effort to improve the work environment and believes in what this organization does.\\n', 'nps_category': 'promoter', 'comment_number': 4, 'prompt_response_id': '202587ed-0a85-47cf-a238-8b0335a98922'}, {'prompt': 'What specific factors or experiences make you highly likely to recommend our company as a great place to work?', 'comment': 'Sense of pride and belonging in the main goal of the organization', 'nps_category': 'promoter', 'comment_number': 5, 'prompt_response_id': '2a934041-c715-4991-96be-fdea86735cb6'}, {'prompt': 'What would our company need to do in order to get a rating of extremely likely?', 'comment': 'Better execute their plans. Every idea seems rushed and not well thought out or executed. Actually train people to do there jobs, instead of throwing them in and hoping for the best. Also, actually dealing with problematic employees, rather than ignoring the situation because you need \"bodies.\"', 'nps_category': 'detractor', 'comment_number': 6, 'prompt_response_id': '34032bb5-ca54-4883-9c19-9c2a79db2228'}, {'prompt': 'What would our company need to do in order to get a rating of extremely likely?', 'comment': 'Continue efforts to raise pay for employees.  Develop more learning and advancement opportunities for employees across departments.  Hold employees accountable for both their successes and mistakes.', 'nps_category': 'passive', 'comment_number': 7, 'prompt_response_id': '3a651809-74f9-4cb7-8885-451b870d8e5f'}, {'prompt': 'What would our company need to do in order to get a rating of extremely likely?', 'comment': 'Higher pay', 'nps_category': 'passive', 'comment_number': 8, 'prompt_response_id': '3cd2fcf8-b17a-4ffb-a328-0f378fe33048'}, {'prompt': 'What specific factors or experiences make you highly likely to recommend our company as a great place to work?', 'comment': 'Work type is rewarding. ', 'nps_category': 'promoter', 'comment_number': 9, 'prompt_response_id': '3d94057d-1ee5-48c8-be98-56b104af8a3d'}, {'prompt': 'What would our company need to do in order to get a rating of extremely likely?', 'comment': 'be honest and fair with employees and appreciate their loyual; service and reward them accordinglywhen', 'nps_category': 'detractor', 'comment_number': 10, 'prompt_response_id': '443c3e38-333f-4e90-a804-aa1a2d0ef28e'}, {'prompt': 'What would our company need to do in order to get a rating of extremely likely?', 'comment': 'Communication and respect. There is a lack of communication which is very frustrating and stressful. Not knowing what is happening makes you feel less valued as an employee. Not knowing what is happening makes you feel less respected and disconnected from what is happening. Recognizing that we are all working together to help make this organization work. Showing respect with being recognized as an employer. ', 'nps_category': 'detractor', 'comment_number': 11, 'prompt_response_id': '465bbde4-d6d9-4989-8980-a70f190c453d'}, {'prompt': 'What specific factors or experiences make you highly likely to recommend our company as a great place to work?', 'comment': 'Core values, leadership, and mission. ', 'nps_category': 'promoter', 'comment_number': 12, 'prompt_response_id': '491a7b57-5729-4e18-abfe-5cf0eb5936cd'}, {'prompt': 'What specific factors or experiences make you highly likely to recommend our company as a great place to work?', 'comment': 'Ability to help people who have disabilities, and the values of the organization. ', 'nps_category': 'promoter', 'comment_number': 13, 'prompt_response_id': '492841df-5d12-4b86-a7b0-b4576e9e351b'}, {'prompt': 'What specific factors or experiences make you highly likely to recommend our company as a great place to work?', 'comment': 'Flexible jobs. Fun atmosphere ', 'nps_category': 'promoter', 'comment_number': 14, 'prompt_response_id': '4ca16fca-8c1d-464b-a77a-797f2fc9c3b5'}, {'prompt': 'What specific factors or experiences make you highly likely to recommend our company as a great place to work?', 'comment': 'team members', 'nps_category': 'promoter', 'comment_number': 15, 'prompt_response_id': '4de6b418-041d-486d-b1ee-4477c1462f40'}, {'prompt': 'What specific factors or experiences make you highly likely to recommend our company as a great place to work?', 'comment': 'honestly the love i get back from residents. its hard earning trust from individuals you dont know so it feels good to know im doing something good ', 'nps_category': 'promoter', 'comment_number': 16, 'prompt_response_id': '5235da05-bce5-443d-ab8c-a84aab0f1948'}, {'prompt': 'What specific factors or experiences make you highly likely to recommend our company as a great place to work?', 'comment': \"Working at Marcfirst provides a special/unique opportunity to contribute in more positive ways than I've every experienced in a job.\", 'nps_category': 'promoter', 'comment_number': 17, 'prompt_response_id': '52e16521-3bda-4b81-8736-f1a29b2e51af'}, {'prompt': 'What would our company need to do in order to get a rating of extremely likely?', 'comment': \"Have the ability to hire competent, qualified employee's by offering competitive wages and benefits. Work on continuously improving pay and benefits, hire competent employee's and expect/ demand that they do their jobs consistently and to the best of their abilities.\", 'nps_category': 'passive', 'comment_number': 18, 'prompt_response_id': '57b27aa9-6cc6-48b1-b81d-806c4e03f6b7'}, {'prompt': 'What specific factors or experiences make you highly likely to recommend our company as a great place to work?', 'comment': 'For the most part everyone seems to care for one another and wants to help you out and see you seceded in what you do.', 'nps_category': 'promoter', 'comment_number': 19, 'prompt_response_id': '595c65aa-bc96-4ecc-896c-4abe0fa410e8'}, {'prompt': 'What would our company need to do in order to get a rating of extremely likely?', 'comment': 'Have offices in the states where they live.', 'nps_category': 'passive', 'comment_number': 20, 'prompt_response_id': '5999b941-96f6-4e85-8553-ac508ee7aac1'}, {'prompt': 'What specific factors or experiences make you highly likely to recommend our company as a great place to work?', 'comment': 'It’s such an inclusive and supportive environment. Our core values really show through.', 'nps_category': 'promoter', 'comment_number': 21, 'prompt_response_id': '5c2cdebe-bbaa-4e3e-8c24-976e28f4dde5'}, {'prompt': 'What would our company need to do in order to get a rating of extremely likely?', 'comment': 'Appreciate the employees more who do the heavy lifting. Meaning take care of the staff who do developmental training, supported employment, and residential staff. Every is PEDS and BHC and our job are just as important if not vital to the everyday life of the people we support. People will always need jobs,', 'nps_category': 'detractor', 'comment_number': 22, 'prompt_response_id': '623d67e1-2fe2-4ff5-b900-b39bbbc0420a'}, {'prompt': 'What would our company need to do in order to get a rating of extremely likely?', 'comment': 'Needs more communication throughout the whole company!\\nThere should be quarterly evaluations to determine raises.\\nNeeds', 'nps_category': 'detractor', 'comment_number': 23, 'prompt_response_id': '69c36d14-3a3a-40b9-8806-77d968216d9a'}, {'prompt': 'What specific factors or experiences make you highly likely to recommend our company as a great place to work?', 'comment': 'I enjoy the work that I do and the freedom that I have for clinical decision-making as well as the support from my team. ', 'nps_category': 'promoter', 'comment_number': 24, 'prompt_response_id': '6a10fbe2-473a-46a7-a0ba-070631d5fc32'}, {'prompt': 'What would our company need to do in order to get a rating of extremely likely?', 'comment': 'change everything    start from scratch', 'nps_category': 'detractor', 'comment_number': 25, 'prompt_response_id': '6ac93eb7-02d8-44cc-a7c0-2b8142017da0'}, {'prompt': 'What specific factors or experiences make you highly likely to recommend our company as a great place to work?', 'comment': 'Using our Core Values to guide the culture within our work place.', 'nps_category': 'promoter', 'comment_number': 26, 'prompt_response_id': '6e518842-a5bc-4bf6-a0fa-6544df6735b5'}, {'prompt': 'What specific factors or experiences make you highly likely to recommend our company as a great place to work?', 'comment': 'I enjoy my day-to-day work and feel like I make a difference in peoples lives. I feel very supported and encouraged by my personal supervisor and have made great strides on becoming closer with my team.', 'nps_category': 'promoter', 'comment_number': 27, 'prompt_response_id': '736a97ee-3176-4d62-9e9f-d1448d7d0bf4'}, {'prompt': 'What would our company need to do in order to get a rating of extremely likely?', 'comment': 'Have better communication & treat all workers the same!! They play favorites with employees who spy on other employees & they get treated better!! They have no idea how hard the DSP’S work in the houses!! ', 'nps_category': 'detractor', 'comment_number': 28, 'prompt_response_id': '78da9898-1c30-443f-9a6d-b820c53571b9'}, {'prompt': 'What specific factors or experiences make you highly likely to recommend our company as a great place to work?', 'comment': 'Nice accepting community ', 'nps_category': 'promoter', 'comment_number': 29, 'prompt_response_id': '8071c4fb-36c3-4688-a558-11a6fdbbc480'}, {'prompt': 'What would our company need to do in order to get a rating of extremely likely?', 'comment': 'Communicate with those in lower leadership roles, trust those in lower leadership roles to do their job, upper leadership show interest in the jobs of those who are at the very bottom.', 'nps_category': 'passive', 'comment_number': 30, 'prompt_response_id': '81138353-7c8e-4835-8303-2285c93718e4'}, {'prompt': 'What would our company need to do in order to get a rating of extremely likely?', 'comment': 'improved benefits, improved salary, increased support from management and improved workplace culture. ', 'nps_category': 'detractor', 'comment_number': 31, 'prompt_response_id': '825b5b70-8173-49b4-9c2e-431d8d3397ce'}, {'prompt': 'What specific factors or experiences make you highly likely to recommend our company as a great place to work?', 'comment': 'This company makes you feel like you’re making a difference in people’s lives. I always have always felt as though I am cared about and important to coworkers, immediate supervisors, and even higher levels of leadership. ', 'nps_category': 'promoter', 'comment_number': 32, 'prompt_response_id': '86c989dc-5b7b-4295-80e6-e498fcdaa015'}, {'prompt': 'What would our company need to do in order to get a rating of extremely likely?', 'comment': 'Pay better', 'nps_category': 'detractor', 'comment_number': 33, 'prompt_response_id': '888e4020-0b24-4258-9356-e668cfbeded1'}, {'prompt': 'What specific factors or experiences make you highly likely to recommend our company as a great place to work?', 'comment': 'flexible schedule', 'nps_category': 'promoter', 'comment_number': 34, 'prompt_response_id': '8f939675-129f-4335-b364-6f9b5565e269'}, {'prompt': 'What specific factors or experiences make you highly likely to recommend our company as a great place to work?', 'comment': 'Our Core Values', 'nps_category': 'promoter', 'comment_number': 35, 'prompt_response_id': '938843cc-ff2d-4597-a691-b5395a1906c0'}, {'prompt': 'What would our company need to do in order to get a rating of extremely likely?', 'comment': 'Communication!! You only hear what your doing wrong never told good job. CEO needs to show presents in all programs. My position needs to be view as equal as all other positions in company. Clients rights not being follow. Staff have there own set of rules. Staff interaction is very poor with the clients. Staff doing to much for the clients. Staff controlling Staff not realizing this is the individuals home. Staff being rude.there is a supervisor that is not very nice She is 3rd in line. No one can do anything right. Most staff feel like that. The behavior analyst is worthless. I also feel that individuals with 1:1 support don’t get it and the agency is billing as they do. Need staff. Work short of staff all the time. Individual not treated as adults but children ', 'nps_category': 'detractor', 'comment_number': 36, 'prompt_response_id': '9eef5644-85af-403e-b338-e7f564bb7e0b'}, {'prompt': 'What would our company need to do in order to get a rating of extremely likely?', 'comment': 'They need to start focusing on the individuals we support and doing right by then instead of trying to force a new program and not allowing people criticize it.', 'nps_category': 'passive', 'comment_number': 37, 'prompt_response_id': '9f146094-c38e-4053-b800-12c46f31715f'}, {'prompt': 'What would our company need to do in order to get a rating of extremely likely?', 'comment': 'More trust in higher leadership roles, security in leadership', 'nps_category': 'detractor', 'comment_number': 38, 'prompt_response_id': 'a5571f0a-e334-4e7d-9460-dd0a7b192b43'}, {'prompt': 'What specific factors or experiences make you highly likely to recommend our company as a great place to work?', 'comment': 'Helping others with colleagues that share similar values.De', 'nps_category': 'promoter', 'comment_number': 39, 'prompt_response_id': 'a7fff547-e966-47d1-bbd3-c74d58932276'}, {'prompt': 'What specific factors or experiences make you highly likely to recommend our company as a great place to work?', 'comment': 'The level of trust leadership has in me to do what is right for my students and this program is empowering. The areas of life in which we cover under one roof for the people we support is unique and special.', 'nps_category': 'promoter', 'comment_number': 40, 'prompt_response_id': 'ab0e4a7e-8e9c-4022-81cb-6d394b365c2a'}, {'prompt': 'What specific factors or experiences make you highly likely to recommend our company as a great place to work?', 'comment': 'Marcfirst provides excellent support for employees and the Core Values are very important to me. ', 'nps_category': 'promoter', 'comment_number': 41, 'prompt_response_id': 'b65bba5f-9d13-422a-a5b3-a4408f7d3a3e'}, {'prompt': 'What specific factors or experiences make you highly likely to recommend our company as a great place to work?', 'comment': \"The work we do is important and rewarding, an opportunity to deeply impact people's lives.\", 'nps_category': 'promoter', 'comment_number': 42, 'prompt_response_id': 'b803c509-427f-4623-a93a-d9456bf1c430'}, {'prompt': 'What specific factors or experiences make you highly likely to recommend our company as a great place to work?', 'comment': 'Everyone is friendly and helpful. The hours are flexible.', 'nps_category': 'promoter', 'comment_number': 43, 'prompt_response_id': 'b84e87aa-b612-41c4-ba89-482a38cafadf'}, {'prompt': 'What would our company need to do in order to get a rating of extremely likely?', 'comment': 'I just feel as though this is a bad time to join Marcfirst. There seems to be a lot of uncertainty in the pediatric program. Changes in leadership recently with no clear reason shared and the new person was not properly/thoroughly introduced to the staff. Seems to be growing too big, too fast. Not a great time to join. Unstable. ', 'nps_category': 'detractor', 'comment_number': 44, 'prompt_response_id': 'bfed5511-808f-4d83-84f5-c85f73ab1c9c'}, {'prompt': 'What would our company need to do in order to get a rating of extremely likely?', 'comment': \"Increased transparency. \\nRepair trust between leadership and those of us providing direct care. \\nCompany core values are built from the bottom up, not the other way around. \\nWe are asking for solutions to important issues and are sick of being placaded by leadership and CEO. \\nPlans for expansion have been consistently shortsighted, causing direct care staff and the individuals supported, to bear the burden while leadership toots their own horn at company meetings. \\nCompany meetings have been extremely tone-deaf. \\nNo more expanding without ensuring that  the integrity and quality of programs are protected. \\nEmployees want a seat at the table and want their thoughts and opinions heard. A lot of decisions are made behind closed doors, and more effort seems to be put into placarding staff complaints than addressing the root issue. \\nThere's also some sort of weird cliquey stuff with HR and leadership going on to where employees don't feel comfortable going to HR about their concerns. \\nTrust is a big issue. \\nMarcfirst used to feel more like a family, I don't know that I have the words to describe how it feels now other than broken.\\nWe have lost quite a few great employees and these are only some of the reasons. When multiple good employees leave all around the same time, that means something's not right. \\nLess sugar coating and PR tactics, more solutions to real problems. \", 'nps_category': 'detractor', 'comment_number': 45, 'prompt_response_id': 'bff08ae1-78e8-4d97-9e0f-8032a81254d4'}, {'prompt': 'What would our company need to do in order to get a rating of extremely likely?', 'comment': \"Improve opportunities for all staff to learn and grow and explore new ways of contributing to the organization's vision.\", 'nps_category': 'detractor', 'comment_number': 46, 'prompt_response_id': 'c3a16975-7ab5-4f08-ac04-1931399dd960'}, {'prompt': 'What would our company need to do in order to get a rating of extremely likely?', 'comment': 'Have better communication about why things are happening and understanding details instead of promoting planning for growth and change in positions, where stability and security is questioned without answers', 'nps_category': 'detractor', 'comment_number': 47, 'prompt_response_id': 'c67c29e2-6042-4218-9f87-72fe14096b2d'}, {'prompt': 'What would our company need to do in order to get a rating of extremely likely?', 'comment': 'Have executive leadership make more of an effort to connect and communicate with all departments/employees/clients on a personal level ', 'nps_category': 'passive', 'comment_number': 48, 'prompt_response_id': 'cc5eaedd-521f-4bbd-adf8-c9d792aca9c1'}, {'prompt': 'What would our company need to do in order to get a rating of extremely likely?', 'comment': 'Not fire people at random within close proximity to another fire/people leaving (poor security); allow more time for collaboration between departments and continuing education on how to do this effectively/kindly (social/work culture/collaboration); provide reviews with opportunity for a raise at annual reviews (pay/sense of value/security; checking in that the culture matches the company values more regularly (staff meetings with team building vs. just company updates) ', 'nps_category': 'detractor', 'comment_number': 49, 'prompt_response_id': 'd1bbb98d-e930-491e-9f59-947dfc63ea3a'}, {'prompt': 'What specific factors or experiences make you highly likely to recommend our company as a great place to work?', 'comment': 'The leadership at Marcfirst is very consistent.  The theme within our core values is a great representation of Marcfirst.  All employees are expected to meet these core values, and leadership does an excellent job of creating an environment that expresses those values and practices exactly what they preach.  Marcfirst has been the most welcoming and thoughtful organization I have ever worked for. ', 'nps_category': 'promoter', 'comment_number': 50, 'prompt_response_id': 'd31e5595-ce5c-4973-837d-75b9603c38ba'}, {'prompt': 'What would our company need to do in order to get a rating of extremely likely?', 'comment': \"I feel like a lot of significant decisions are made quickly and then not followed through on for issues to be resolved by the directors.  Input from the staff working is not asked for when decisions are made; we're just told this is what's happening.  There's a lot of changes being made (which are needed) but more changes are brought on before the first one is completed or working smoothly.  I feel like when I start one project, I have to start another one before the first is finished or done well.  There's such a rush for growth that we can't make enough progress on what we do to make day-to-day functioning smoothly.  I'm concerned on how we can keep staff if it seems like we don't know what we're doing or the process of what we're doing changes frequently.\", 'nps_category': 'passive', 'comment_number': 51, 'prompt_response_id': 'de422b48-7b31-42fc-9c53-ce566a1c1411'}, {'prompt': 'What specific factors or experiences make you highly likely to recommend our company as a great place to work?', 'comment': 'Most of the individuals that work here work with you as a team and want to meet goals for the organization to grow.  I feel that I have a great relationship with co-workers. I also enjoy coming to work everyday.', 'nps_category': 'promoter', 'comment_number': 52, 'prompt_response_id': 'dea20fea-4174-4214-bc43-30ede52d948b'}, {'prompt': 'What specific factors or experiences make you highly likely to recommend our company as a great place to work?', 'comment': 'Great workplace culture and supervisors are reasonable in their expectations, while still holding people accountable (which is important). There is a lot of flexibility and understanding from supervisors regarding how work gets done. Supervisors and others share positive feedback frequently, which makes you feel valued and appreciated. The pay is very good for a not-for-profit and there is a lot of evidence showing the work toward increasing pay for staff. The \"staff first\" perspective the CEO and senior leadership share is what makes Marcfirst such a great place to work. I\\'ve worked at other non-profits where it was \"client first\"...which equated to the workplace culture being \"staff last,\" which ultimately negatively impacted the quality of services to the people we served. Anything short of \"staff first\" will lead to worker burnout and low morale from staff and I like that Marcfirst is aware of this. Everyone is very friendly at work and you feel part of a team and happy to work along side people. When I speak about Marcfirst outside of work I genuinely have positive things to say about working here. And it feels good to share what Marcfirst does with others. I also appreciate how open senior leadership is to new ideas and out-of-the-box thinking. ', 'nps_category': 'promoter', 'comment_number': 53, 'prompt_response_id': 'df294195-ec77-4ed3-a2cc-84dc4af0266d'}, {'prompt': 'What specific factors or experiences make you highly likely to recommend our company as a great place to work?', 'comment': 'I just love working here. Leadership is present, empathetic, and invested in the organization and the staff. ', 'nps_category': 'promoter', 'comment_number': 54, 'prompt_response_id': 'e24d1b46-6794-40ad-be3a-ab342a16291b'}, {'prompt': 'What specific factors or experiences make you highly likely to recommend our company as a great place to work?', 'comment': 'I have worked for several different companies but have never worked for a company who is so inclusive and understanding. Marcfirst truly knows how to create a family environment, making all feel welcome and safe within. ', 'nps_category': 'promoter', 'comment_number': 55, 'prompt_response_id': 'e4172477-a5d9-4fb2-a6af-f72e91448f87'}, {'prompt': 'What would our company need to do in order to get a rating of extremely likely?', 'comment': 'Opportunities for raises/bonuses pertaining to my experience and what I have provided for the company. Leadership talking with the department before making changes. There have been times where changes are made and it does not allign with what our needs are but they would not know because they dont see the day to day things that occur.', 'nps_category': 'passive', 'comment_number': 56, 'prompt_response_id': 'e98bfcb0-412b-4db3-93f3-e4ba7089f4a7'}, {'prompt': 'What specific factors or experiences make you highly likely to recommend our company as a great place to work?', 'comment': 'The mission and values. The majority of the people truly care about the people we support. ', 'nps_category': 'promoter', 'comment_number': 57, 'prompt_response_id': 'eb8bc003-965c-49a7-af28-42e99a842d4c'}, {'prompt': 'What would our company need to do in order to get a rating of extremely likely?', 'comment': 'Provide an amount of training so all individuals can be certain what is expected of them on the job.', 'nps_category': 'passive', 'comment_number': 58, 'prompt_response_id': 'ec02be88-44cb-4d01-8f11-df38a2968244'}, {'prompt': 'What would our company need to do in order to get a rating of extremely likely?', 'comment': 'The company needs to hire more competent employees. ', 'nps_category': 'detractor', 'comment_number': 59, 'prompt_response_id': 'ee53ea13-1a80-4ea4-b937-c4228f24bed6'}, {'prompt': 'What would our company need to do in order to get a rating of extremely likely?', 'comment': 'Competitive pay for the staff implementing direct services (RBTs). Goals for individuals leaders in other departments to reach. Efficient communication system between other departments and administration who makes the decisions that affect everyday life and working conditions. Proper and efficient training for the job others are hired to complete.', 'nps_category': 'passive', 'comment_number': 60, 'prompt_response_id': 'ef186156-4921-40de-877a-c160b957cfc6'}, {'prompt': 'What would our company need to do in order to get a rating of extremely likely?', 'comment': 'Listen to employees rather than just hearing. Do not jump the gun when implementing new things, make sure opinions of those who may be effected by the changes are taken into consideration. Competitive wages and increases for those who have been with the company for a longer period of time. ', 'nps_category': 'detractor', 'comment_number': 61, 'prompt_response_id': 'f1f0018e-b228-43ed-91ce-3e4589ae49ed'}, {'prompt': 'What specific factors or experiences make you highly likely to recommend our company as a great place to work?', 'comment': 'The support you get from your team. We all support and empower each other every chance we get. ', 'nps_category': 'promoter', 'comment_number': 62, 'prompt_response_id': 'f5b49039-65c7-424a-a535-78f5a0916539'}, {'prompt': 'What would our company need to do in order to get a rating of extremely likely?', 'comment': 'Figure out a way to fill gaps in staffing.', 'nps_category': 'passive', 'comment_number': 63, 'prompt_response_id': 'f855fdd7-1418-4a86-8119-89a936c3b3e9'}, {'prompt': 'What would our company need to do in order to get a rating of extremely likely?', 'comment': 'Better communication and not rush into decisions without getting feedback and input from the people it directly affects as a whole. Often times, the organization makes decisions quickly before fixing the issues that are residing at the facilities which in turn creates bigger issues. The organization also makes decisions that impact that workers directly before getting input or if they do get input, its as if it is pushed aside; this makes the job maybe harder than it was originally when completing day to day tasks. ', 'nps_category': 'passive', 'comment_number': 64, 'prompt_response_id': 'fb9740b1-1224-4127-a012-a0916de1f640'}, {'prompt': 'What specific factors or experiences make you highly likely to recommend our company as a great place to work?', 'comment': \"The vision, mission and core values of the organization.  Leadership's ability to bring about positive change and appreciation of staff. \\n\", 'nps_category': 'promoter', 'comment_number': 65, 'prompt_response_id': 'ff4aad32-19a3-47ba-b55f-2d0936d25b6c'}, {'prompt': 'What would our company need to do in order to get a rating of extremely likely?', 'comment': 'Improve insurance benefits and start making clearer and more effective decisions with department members involved where appropriate- also learning when it is appropriate to bring in department members. Just bringing the director who is not involved in the day to day to figure out what a department needs doesn’t always solve the problem effectively and results in us bringing the issue right back. ', 'nps_category': 'detractor', 'comment_number': 66, 'prompt_response_id': 'ff58147a-ed9a-4839-86e1-7cb5ac590dad'}]\n"
     ]
    }
   ],
   "source": [
    "comments_function = ai.operations.ExtractKey(\"Comments List Extractor\").set_input(\n",
    "    input=comments_request, key_name=\"comments\")\n",
    "comments_function.process()\n",
    "comments_list = comments_function.get_output()\n",
    "print(comments_list)"
   ]
  },
  {
   "cell_type": "code",
   "execution_count": 7,
   "metadata": {},
   "outputs": [
    {
     "data": {
      "text/plain": [
       "Dimension Analyzer (AIProcess)"
      ]
     },
     "execution_count": 7,
     "metadata": {},
     "output_type": "execute_result"
    }
   ],
   "source": [
    "comment_dict_input = ai.operations.Passthrough(\"Comment Dict Input\").set_input(\n",
    "    name_of_input=\"comment_dict\")\n",
    "\n",
    "class CreateMetadata(ai.CustomCodeBlock):\n",
    "    def __init__(self, name):\n",
    "        super().__init__(name)\n",
    "        self.required_input = [\"comment_dict\"]\n",
    "\n",
    "    def code(self):\n",
    "        comment_dict = self.get_input(\"comment_dict\")\n",
    "        return {\n",
    "            \"client_survey_id\": client_survey_id,\n",
    "            \"source\": \"QualitativeAnalyzer.ipynb\",\n",
    "            \"function\": \"NPS Followup Analysis\",\n",
    "            \"prompt_response_id\": comment_dict[\"prompt_response_id\"],\n",
    "            \"comment_number\": str(comment_dict[\"comment_number\"])\n",
    "        }\n",
    "    \n",
    "create_metadata = CreateMetadata(\"Create Metadata\").set_input(\n",
    "    comment_dict=comment_dict_input)\n",
    "\n",
    "class CreateReplacements(ai.CustomCodeBlock):\n",
    "    def __init__(self, name):\n",
    "        super().__init__(name)\n",
    "        self.required_input = [\"comment_dict\"]\n",
    "\n",
    "    def code(self):\n",
    "        comment_dict = self.get_input(\"comment_dict\")\n",
    "        return {\n",
    "            \"comment\": comment_dict[\"comment\"]\n",
    "        }\n",
    "    \n",
    "replacements_for_llm = CreateReplacements(\"Create Replacements\").set_input(\n",
    "    comment_dict=comment_dict_input)\n",
    "\n",
    "dimension_analyzer_llm = ai.composed.LLMWithPromptRetrievalAndTracking(\"Dimension Analyzer LLM\").set_input(\n",
    "    template_name=\"Comment Dimension Analyzer\",\n",
    "    promptlayer_tags=[client_name],\n",
    "    replacements=replacements_for_llm,\n",
    "    model_name=\"gpt-4\",\n",
    "    metadata=create_metadata)\n",
    "\n",
    "dimension_analyzer_json = ai.operations.ConvertToJSON(\"Dimension Analyzer JSON\").set_input(\n",
    "    input=dimension_analyzer_llm)\n",
    "\n",
    "class ConvertSupportAndRecognitionToValue(ai.CustomCodeBlock):\n",
    "    def __init__(self, name):\n",
    "        super().__init__(name)\n",
    "        self.required_input = [\"analysis\"]\n",
    "\n",
    "    def code(self):\n",
    "        analysis = self.get_input(\"analysis\")\n",
    "        if 'Support & Recognition' in analysis:\n",
    "            analysis['Value'] = analysis.pop('Support & Recognition')\n",
    "        return analysis\n",
    "\n",
    "convert_support_and_regognition_to_value = ConvertSupportAndRecognitionToValue(\"Convert Support & Recognition to Value\").set_input(\n",
    "    analysis=dimension_analyzer_json)\n",
    "\n",
    "class DimensionAnalyzerOutput(ai.CustomCodeBlock):\n",
    "    def __init__(self, name):\n",
    "        super().__init__(name)\n",
    "        self.required_input = [\"comment_dict\", \"analysis\"]\n",
    "\n",
    "    def code(self):\n",
    "        comment_dict = self.get_input(\"comment_dict\")\n",
    "        analysis = self.get_input(\"analysis\")\n",
    "        output = list()\n",
    "        for dimension, anal in analysis.items():\n",
    "            output.append({\n",
    "                \"comment_number\": comment_dict[\"comment_number\"],\n",
    "                \"comment\": comment_dict[\"comment\"],\n",
    "                \"prompt_response_id\": comment_dict[\"prompt_response_id\"],\n",
    "                \"dimension\": dimension,\n",
    "                \"analysis\": anal[\"analysis\"],\n",
    "                \"sentiment\": anal[\"sentiment\"]\n",
    "                })\n",
    "\n",
    "        return output\n",
    "\n",
    "dimension_analyzer_output = DimensionAnalyzerOutput(\"Dimension Analyzer Output Function\").set_input(\n",
    "    comment_dict=comment_dict_input, analysis=convert_support_and_regognition_to_value)\n",
    "\n",
    "\n",
    "dimension_analyzer = ai.AIProcess(\"Dimension Analyzer\")\n",
    "dimension_analyzer.expose_input(\"comment_dict\", comment_dict_input)\n",
    "dimension_analyzer.expose_output(dimension_analyzer_output)"
   ]
  },
  {
   "cell_type": "code",
   "execution_count": 8,
   "metadata": {},
   "outputs": [
    {
     "name": "stdout",
     "output_type": "stream",
     "text": [
      "Processing comment 1 of 66\n"
     ]
    },
    {
     "ename": "AINonRetryableError",
     "evalue": "Cannot process AIProcess because not all inputs are present.\n                                       Required inputs: []\nDynamic inputs: ['comment_dict']",
     "output_type": "error",
     "traceback": [
      "\u001b[0;31m---------------------------------------------------------------------------\u001b[0m",
      "\u001b[0;31mAINonRetryableError\u001b[0m                       Traceback (most recent call last)",
      "\u001b[1;32m/Users/ahell/Documents/Python Projects/AIToolkit/examples/QualitativeAnalysis/QualitativeAnalyzer.ipynb Cell 10\u001b[0m line \u001b[0;36m6\n\u001b[1;32m      <a href='vscode-notebook-cell:/Users/ahell/Documents/Python%20Projects/AIToolkit/examples/QualitativeAnalysis/QualitativeAnalyzer.ipynb#X12sZmlsZQ%3D%3D?line=3'>4</a>\u001b[0m \u001b[39mprint\u001b[39m(\u001b[39mf\u001b[39m\u001b[39m\"\u001b[39m\u001b[39mProcessing comment \u001b[39m\u001b[39m{\u001b[39;00mi\u001b[39m+\u001b[39m\u001b[39m1\u001b[39m\u001b[39m}\u001b[39;00m\u001b[39m of \u001b[39m\u001b[39m{\u001b[39;00m\u001b[39mlen\u001b[39m(comments_list)\u001b[39m}\u001b[39;00m\u001b[39m\"\u001b[39m)\n\u001b[1;32m      <a href='vscode-notebook-cell:/Users/ahell/Documents/Python%20Projects/AIToolkit/examples/QualitativeAnalysis/QualitativeAnalyzer.ipynb#X12sZmlsZQ%3D%3D?line=4'>5</a>\u001b[0m dimension_analyzer\u001b[39m.\u001b[39mset_input(comment_dict\u001b[39m=\u001b[39mcomments_list[i])\n\u001b[0;32m----> <a href='vscode-notebook-cell:/Users/ahell/Documents/Python%20Projects/AIToolkit/examples/QualitativeAnalysis/QualitativeAnalyzer.ipynb#X12sZmlsZQ%3D%3D?line=5'>6</a>\u001b[0m dimension_analyzer\u001b[39m.\u001b[39;49mprocess()\n\u001b[1;32m      <a href='vscode-notebook-cell:/Users/ahell/Documents/Python%20Projects/AIToolkit/examples/QualitativeAnalysis/QualitativeAnalyzer.ipynb#X12sZmlsZQ%3D%3D?line=6'>7</a>\u001b[0m output\u001b[39m.\u001b[39mextend(dimension_analyzer\u001b[39m.\u001b[39mget_output())\n",
      "File \u001b[0;32m~/Documents/Python Projects/AIToolkit/ai_toolkit/ai_tool.py:24\u001b[0m, in \u001b[0;36mAITool.process\u001b[0;34m(self)\u001b[0m\n\u001b[1;32m     22\u001b[0m \u001b[39mdef\u001b[39;00m \u001b[39mprocess\u001b[39m(\u001b[39mself\u001b[39m) \u001b[39m-\u001b[39m\u001b[39m>\u001b[39m \u001b[39m\"\u001b[39m\u001b[39mAITool\u001b[39m\u001b[39m\"\u001b[39m:\n\u001b[1;32m     23\u001b[0m     \u001b[39mif\u001b[39;00m \u001b[39mnot\u001b[39;00m \u001b[39mself\u001b[39m\u001b[39m.\u001b[39mcan_process():\n\u001b[0;32m---> 24\u001b[0m         \u001b[39mraise\u001b[39;00m AINonRetryableError(\u001b[39mf\u001b[39m\u001b[39m\"\u001b[39m\u001b[39mCannot process \u001b[39m\u001b[39m{\u001b[39;00m\u001b[39mself\u001b[39m\u001b[39m.\u001b[39m\u001b[39m__class__\u001b[39m\u001b[39m.\u001b[39m\u001b[39m__name__\u001b[39m\u001b[39m}\u001b[39;00m\u001b[39m because not all inputs are present.\u001b[39m\u001b[39m\\n\u001b[39;00m\u001b[39m \u001b[39m\u001b[39m\\\u001b[39;00m\n\u001b[1;32m     25\u001b[0m \u001b[39m                                  Required inputs: \u001b[39m\u001b[39m{\u001b[39;00m\u001b[39mself\u001b[39m\u001b[39m.\u001b[39mrequired_input\u001b[39m}\u001b[39;00m\u001b[39m\\n\u001b[39;00m\u001b[39mDynamic inputs: \u001b[39m\u001b[39m{\u001b[39;00m\u001b[39mself\u001b[39m\u001b[39m.\u001b[39mdynamic_input\u001b[39m}\u001b[39;00m\u001b[39m\"\u001b[39m)\n\u001b[1;32m     27\u001b[0m     \u001b[39mself\u001b[39m\u001b[39m.\u001b[39mdependents_received_output \u001b[39m=\u001b[39m \u001b[39mlist\u001b[39m()\n\u001b[1;32m     28\u001b[0m     \u001b[39mself\u001b[39m\u001b[39m.\u001b[39moutput \u001b[39m=\u001b[39m \u001b[39mself\u001b[39m\u001b[39m.\u001b[39m_process()\n",
      "\u001b[0;31mAINonRetryableError\u001b[0m: Cannot process AIProcess because not all inputs are present.\n                                       Required inputs: []\nDynamic inputs: ['comment_dict']"
     ]
    }
   ],
   "source": [
    "output = list()\n",
    "for i in range(len(comments_list)):\n",
    "    clear_output(wait=True)\n",
    "    print(f\"Processing comment {i+1} of {len(comments_list)}\")\n",
    "    dimension_analyzer.set_input(comment_dict=comments_list[i])\n",
    "    dimension_analyzer.process()\n",
    "    output.extend(dimension_analyzer.get_output())"
   ]
  },
  {
   "cell_type": "code",
   "execution_count": 10,
   "metadata": {},
   "outputs": [],
   "source": [
    "dimension_analyzer.can_process()"
   ]
  },
  {
   "cell_type": "code",
   "execution_count": null,
   "metadata": {},
   "outputs": [
    {
     "data": {
      "text/plain": [
       "'File successfully written'"
      ]
     },
     "execution_count": 15,
     "metadata": {},
     "output_type": "execute_result"
    }
   ],
   "source": [
    "dimension_results_json = ai.io.FileWriter(\"Save Dimension Analysis JSON\").set_input(file_path=f\"Clients/{client_name}/dimensions_json.json\", data=output)\n",
    "dimension_results_json.process()\n",
    "dimension_results_json.get_output()"
   ]
  },
  {
   "cell_type": "markdown",
   "metadata": {},
   "source": [
    "## Driver Analysis"
   ]
  },
  {
   "cell_type": "code",
   "execution_count": null,
   "metadata": {},
   "outputs": [
    {
     "name": "stdout",
     "output_type": "stream",
     "text": [
      "81\n",
      "Skipping Not Applicable\n",
      "Skipping Not Applicable\n",
      "Skipping Not Applicable\n",
      "78\n"
     ]
    }
   ],
   "source": [
    "dimensions_to_analyze = [\n",
    "    \"Accomplishment\",\n",
    "    \"Alignment\",\n",
    "    \"Compensation & Benefits\",\n",
    "    \"Connection\",\n",
    "    \"Diversity\",\n",
    "    \"Purpose\",\n",
    "    \"Security\",\n",
    "    \"Value\",\n",
    "    \"Work Environment\",\n",
    "    \"Workload & Stress\"\n",
    "]\n",
    "print(len(output))\n",
    "dimension_ouput_for_driver_analysis = list()\n",
    "for comment_analysis in output:\n",
    "    dimension = comment_analysis[\"dimension\"]\n",
    "    if dimension in dimensions_to_analyze:\n",
    "        dimension_ouput_for_driver_analysis.append(comment_analysis)\n",
    "    else:\n",
    "        print(f\"Skipping {dimension}\")\n",
    "\n",
    "print(len(dimension_ouput_for_driver_analysis))"
   ]
  },
  {
   "cell_type": "code",
   "execution_count": null,
   "metadata": {},
   "outputs": [
    {
     "data": {
      "text/plain": [
       "Driver Analyzer (AIProcess)"
      ]
     },
     "execution_count": 34,
     "metadata": {},
     "output_type": "execute_result"
    }
   ],
   "source": [
    "comment_dict_input = ai.operations.Passthrough(\"Comment Dict Input\").set_input(\n",
    "    name_of_input=\"comment_dict\")\n",
    "\n",
    "extract_comment = ai.operations.ExtractKey(\"Extract Comment\").set_input(\n",
    "    input=comment_dict_input, key_name=\"comment\")\n",
    "\n",
    "extract_comment_num = ai.operations.ExtractKey(\"Extract Comment Number\").set_input(\n",
    "    input=comment_dict_input, key_name=\"comment_number\")\n",
    "\n",
    "extract_prompt_response_id = ai.operations.ExtractKey(\"Extract Prompt Response ID\").set_input(\n",
    "    input=comment_dict_input, key_name=\"prompt_response_id\")\n",
    "\n",
    "extract_dimension = ai.operations.ExtractKey(\"Extract Dimension\").set_input(\n",
    "    input=comment_dict_input, key_name=\"dimension\")\n",
    "\n",
    "extract_analysis = ai.operations.ExtractKey(\"Extract Analysis\").set_input(\n",
    "    input=comment_dict_input, key_name=\"analysis\")\n",
    "\n",
    "extract_sentiment = ai.operations.ExtractKey(\"Extract Sentiment\").set_input(\n",
    "    input=comment_dict_input, key_name=\"sentiment\")\n",
    "\n",
    "driver_prompt_file_name_function = \"\"\"\n",
    "    dimension = get_input(\"dimension\")\n",
    "    return f\"driver_prompt_{dimension.lower().replace(' ', '_').replace('&', 'and')}.txt\"\n",
    "\"\"\"\n",
    "\n",
    "driver_prompt_file_name = ai.tools.Function(\"Driver Prompt File Name\").set_input(\n",
    "    function=driver_prompt_file_name_function, dimension=extract_dimension)\n",
    "\n",
    "driver_prompt_file = ai.io.FileReader(\"Driver Analyzer File\").set_input(\n",
    "    file_path=driver_prompt_file_name)\n",
    "\n",
    "driver_prompt = ai.tools.PromptBuilder(\"Driver Analyzer Prompt\").set_input(\n",
    "    template=driver_prompt_file, comment=extract_comment, value_analysis=extract_analysis)\n",
    "\n",
    "driver_analyzer_llm = ai.tools.AIModel(\"Driver Analyzer LLM\").set_input(\n",
    "    model_name=\"gpt-4\", prompt=driver_prompt)\n",
    "\n",
    "driver_analyzer_json = ai.operations.ConvertToJSON(\"Driver Analyzer JSON\").set_input(\n",
    "    input=driver_analyzer_llm)\n",
    "\n",
    "driver_analyzer_output_function = \"\"\"\n",
    "    comment_num = get_input(\"comment_number\")\n",
    "    comment = get_input(\"comment\")\n",
    "    prompt_response_id = get_input(\"prompt_response_id\")\n",
    "    dimension = get_input(\"dimension\")\n",
    "    analysis = get_input(\"analysis\")\n",
    "    sentiment = get_input(\"sentiment\")\n",
    "    takeaway = get_input(\"takeaway\")\n",
    "    output = list()\n",
    "    for driver, takeaway in takeaway.items():\n",
    "        output.append({\n",
    "            'prompt_response_id': prompt_response_id,\n",
    "            'comment_num': comment_num,\n",
    "            'dimension': dimension,\n",
    "            'sentiment': sentiment,\n",
    "            'comment': comment,\n",
    "            'analysis': analysis,\n",
    "            'driver': driver,\n",
    "            'takeaway': takeaway\n",
    "        })\n",
    "\n",
    "    return output\n",
    "\"\"\"\n",
    "\n",
    "driver_analyzer_output = ai.tools.Function(\"Driver Analyzer Output\").set_input(\n",
    "    function=driver_analyzer_output_function, \n",
    "    comment_number=extract_comment_num,\n",
    "    comment=extract_comment,\n",
    "    prompt_response_id=extract_prompt_response_id,\n",
    "    dimension=extract_dimension,\n",
    "    analysis=extract_analysis,\n",
    "    sentiment=extract_sentiment,\n",
    "    takeaway=driver_analyzer_json)\n",
    "\n",
    "driver_analyzer = ai.AIProcess(\"Driver Analyzer\")\n",
    "driver_analyzer.expose_input(\"comment_dict\", comment_dict_input)\n",
    "driver_analyzer.expose_output(driver_analyzer_output)"
   ]
  },
  {
   "cell_type": "code",
   "execution_count": null,
   "metadata": {},
   "outputs": [
    {
     "name": "stdout",
     "output_type": "stream",
     "text": [
      "Processing comment 12 of 78\n",
      "Processing Comment Dict Input (Passthrough)\n",
      "Processing Extract Comment (ExtractKey)\n",
      "Processing Extract Comment Number (ExtractKey)\n",
      "Processing Extract Prompt Response ID (ExtractKey)\n",
      "Processing Extract Dimension (ExtractKey)\n",
      "Processing Driver Prompt File Name (Function)\n",
      "Processing Driver Analyzer File (FileReader)\n",
      "Processing Extract Analysis (ExtractKey)\n",
      "Processing Extract Sentiment (ExtractKey)\n",
      "Processing Driver Analyzer Prompt (PromptBuilder)\n",
      "Processing Driver Analyzer LLM (AIModel)\n"
     ]
    },
    {
     "ename": "RateLimitError",
     "evalue": "Rate limit reached for 10KTPM-200RPM in organization org-1ra0eeBjtT69TLEagEMEAA9n on tokens per min. Limit: 10000 / min. Please try again in 6ms. Contact us through our help center at help.openai.com if you continue to have issues.",
     "output_type": "error",
     "traceback": [
      "\u001b[0;31m---------------------------------------------------------------------------\u001b[0m",
      "\u001b[0;31mRateLimitError\u001b[0m                            Traceback (most recent call last)",
      "Cell \u001b[0;32mIn[35], line 6\u001b[0m\n\u001b[1;32m      4\u001b[0m \u001b[39mprint\u001b[39m(\u001b[39mf\u001b[39m\u001b[39m\"\u001b[39m\u001b[39mProcessing comment \u001b[39m\u001b[39m{\u001b[39;00mi\u001b[39m+\u001b[39m\u001b[39m1\u001b[39m\u001b[39m}\u001b[39;00m\u001b[39m of \u001b[39m\u001b[39m{\u001b[39;00m\u001b[39mlen\u001b[39m(dimension_ouput_for_driver_analysis)\u001b[39m}\u001b[39;00m\u001b[39m\"\u001b[39m)\n\u001b[1;32m      5\u001b[0m driver_analyzer\u001b[39m.\u001b[39mset_input(comment_dict\u001b[39m=\u001b[39mdimension_ouput_for_driver_analysis[i])\n\u001b[0;32m----> 6\u001b[0m driver_analyzer\u001b[39m.\u001b[39;49mprocess()\n\u001b[1;32m      7\u001b[0m driver_output\u001b[39m.\u001b[39mextend(driver_analyzer\u001b[39m.\u001b[39mget_output())\n",
      "File \u001b[0;32m~/Documents/Python Projects/AIToolkit/ai_toolkit/ai_tool.py:28\u001b[0m, in \u001b[0;36mAITool.process\u001b[0;34m(self)\u001b[0m\n\u001b[1;32m     24\u001b[0m     \u001b[39mraise\u001b[39;00m AINonRetryableError(\u001b[39mf\u001b[39m\u001b[39m\"\u001b[39m\u001b[39mCannot process \u001b[39m\u001b[39m{\u001b[39;00m\u001b[39mself\u001b[39m\u001b[39m.\u001b[39m\u001b[39m__class__\u001b[39m\u001b[39m.\u001b[39m\u001b[39m__name__\u001b[39m\u001b[39m}\u001b[39;00m\u001b[39m because not all inputs are present.\u001b[39m\u001b[39m\\n\u001b[39;00m\u001b[39m \u001b[39m\u001b[39m\\\u001b[39;00m\n\u001b[1;32m     25\u001b[0m \u001b[39m                              Required inputs: \u001b[39m\u001b[39m{\u001b[39;00m\u001b[39mself\u001b[39m\u001b[39m.\u001b[39mrequired_input\u001b[39m}\u001b[39;00m\u001b[39m\\n\u001b[39;00m\u001b[39mDynamic inputs: \u001b[39m\u001b[39m{\u001b[39;00m\u001b[39mself\u001b[39m\u001b[39m.\u001b[39mdynamic_input\u001b[39m}\u001b[39;00m\u001b[39m\"\u001b[39m)\n\u001b[1;32m     27\u001b[0m \u001b[39mself\u001b[39m\u001b[39m.\u001b[39mdependents_received_output \u001b[39m=\u001b[39m \u001b[39mlist\u001b[39m()\n\u001b[0;32m---> 28\u001b[0m \u001b[39mself\u001b[39m\u001b[39m.\u001b[39moutput \u001b[39m=\u001b[39m \u001b[39mself\u001b[39;49m\u001b[39m.\u001b[39;49m_process()\n\u001b[1;32m     29\u001b[0m \u001b[39mreturn\u001b[39;00m \u001b[39mself\u001b[39m\n",
      "File \u001b[0;32m~/Documents/Python Projects/AIToolkit/ai_toolkit/ai_process.py:30\u001b[0m, in \u001b[0;36mAIProcess._process\u001b[0;34m(self)\u001b[0m\n\u001b[1;32m     28\u001b[0m \u001b[39mif\u001b[39;00m ai_tool\u001b[39m.\u001b[39mcan_process():\n\u001b[1;32m     29\u001b[0m     \u001b[39mprint\u001b[39m(\u001b[39mf\u001b[39m\u001b[39m\"\u001b[39m\u001b[39mProcessing \u001b[39m\u001b[39m{\u001b[39;00mai_tool\u001b[39m}\u001b[39;00m\u001b[39m\"\u001b[39m)\n\u001b[0;32m---> 30\u001b[0m     ai_tool\u001b[39m.\u001b[39;49mprocess()\n\u001b[1;32m     31\u001b[0m     processed_tools\u001b[39m.\u001b[39mappend(ai_tool)\n\u001b[1;32m     32\u001b[0m     still_processing \u001b[39m=\u001b[39m \u001b[39mTrue\u001b[39;00m\n",
      "File \u001b[0;32m~/Documents/Python Projects/AIToolkit/ai_toolkit/ai_tool.py:28\u001b[0m, in \u001b[0;36mAITool.process\u001b[0;34m(self)\u001b[0m\n\u001b[1;32m     24\u001b[0m     \u001b[39mraise\u001b[39;00m AINonRetryableError(\u001b[39mf\u001b[39m\u001b[39m\"\u001b[39m\u001b[39mCannot process \u001b[39m\u001b[39m{\u001b[39;00m\u001b[39mself\u001b[39m\u001b[39m.\u001b[39m\u001b[39m__class__\u001b[39m\u001b[39m.\u001b[39m\u001b[39m__name__\u001b[39m\u001b[39m}\u001b[39;00m\u001b[39m because not all inputs are present.\u001b[39m\u001b[39m\\n\u001b[39;00m\u001b[39m \u001b[39m\u001b[39m\\\u001b[39;00m\n\u001b[1;32m     25\u001b[0m \u001b[39m                              Required inputs: \u001b[39m\u001b[39m{\u001b[39;00m\u001b[39mself\u001b[39m\u001b[39m.\u001b[39mrequired_input\u001b[39m}\u001b[39;00m\u001b[39m\\n\u001b[39;00m\u001b[39mDynamic inputs: \u001b[39m\u001b[39m{\u001b[39;00m\u001b[39mself\u001b[39m\u001b[39m.\u001b[39mdynamic_input\u001b[39m}\u001b[39;00m\u001b[39m\"\u001b[39m)\n\u001b[1;32m     27\u001b[0m \u001b[39mself\u001b[39m\u001b[39m.\u001b[39mdependents_received_output \u001b[39m=\u001b[39m \u001b[39mlist\u001b[39m()\n\u001b[0;32m---> 28\u001b[0m \u001b[39mself\u001b[39m\u001b[39m.\u001b[39moutput \u001b[39m=\u001b[39m \u001b[39mself\u001b[39;49m\u001b[39m.\u001b[39;49m_process()\n\u001b[1;32m     29\u001b[0m \u001b[39mreturn\u001b[39;00m \u001b[39mself\u001b[39m\n",
      "File \u001b[0;32m~/Documents/Python Projects/AIToolkit/ai_toolkit/tools/ai_model.py:45\u001b[0m, in \u001b[0;36mAIModel._process\u001b[0;34m(self)\u001b[0m\n\u001b[1;32m     42\u001b[0m \u001b[39mself\u001b[39m\u001b[39m.\u001b[39m_assert_message_formatting(messages)\n\u001b[1;32m     44\u001b[0m \u001b[39mif\u001b[39;00m model_name \u001b[39min\u001b[39;00m \u001b[39mself\u001b[39m\u001b[39m.\u001b[39mOPENAI_MODEL_NAMES:\n\u001b[0;32m---> 45\u001b[0m     \u001b[39mreturn\u001b[39;00m \u001b[39mself\u001b[39;49m\u001b[39m.\u001b[39;49m_get_completion_openai(model_name, messages, max_tokens, temperature)\n\u001b[1;32m     46\u001b[0m \u001b[39melif\u001b[39;00m model_name \u001b[39min\u001b[39;00m \u001b[39mself\u001b[39m\u001b[39m.\u001b[39mANTHROPIC_MODEL_NAMES:\n\u001b[1;32m     47\u001b[0m     \u001b[39mreturn\u001b[39;00m \u001b[39mself\u001b[39m\u001b[39m.\u001b[39m_get_completion_anthropic(model_name, messages, max_tokens)\n",
      "File \u001b[0;32m~/Documents/Python Projects/AIToolkit/ai_toolkit/tools/ai_model.py:102\u001b[0m, in \u001b[0;36mAIModel._get_completion_openai\u001b[0;34m(self, model_name, messages, max_tokens, temperature)\u001b[0m\n\u001b[1;32m    101\u001b[0m \u001b[39mdef\u001b[39;00m \u001b[39m_get_completion_openai\u001b[39m(\u001b[39mself\u001b[39m, model_name: \u001b[39mstr\u001b[39m, messages: List[Dict[\u001b[39mstr\u001b[39m, \u001b[39mstr\u001b[39m]], max_tokens: \u001b[39mint\u001b[39m, temperature: \u001b[39mfloat\u001b[39m) \u001b[39m-\u001b[39m\u001b[39m>\u001b[39m \u001b[39mstr\u001b[39m:\n\u001b[0;32m--> 102\u001b[0m     response \u001b[39m=\u001b[39m openai\u001b[39m.\u001b[39;49mChatCompletion\u001b[39m.\u001b[39;49mcreate(\n\u001b[1;32m    103\u001b[0m         model\u001b[39m=\u001b[39;49mmodel_name,\n\u001b[1;32m    104\u001b[0m         messages\u001b[39m=\u001b[39;49mmessages,\n\u001b[1;32m    105\u001b[0m         temperature\u001b[39m=\u001b[39;49mtemperature, \u001b[39m# this is the degree of randomness of the model's output\u001b[39;49;00m\n\u001b[1;32m    106\u001b[0m         max_tokens\u001b[39m=\u001b[39;49mmax_tokens, \u001b[39m# this is the maximum number of tokens to generate\u001b[39;49;00m\n\u001b[1;32m    107\u001b[0m     )\n\u001b[1;32m    108\u001b[0m     \u001b[39mreturn\u001b[39;00m response\u001b[39m.\u001b[39mchoices[\u001b[39m0\u001b[39m]\u001b[39m.\u001b[39mmessage[\u001b[39m\"\u001b[39m\u001b[39mcontent\u001b[39m\u001b[39m\"\u001b[39m]\n",
      "File \u001b[0;32m~/Documents/Python Projects/AIToolkit/AIToolkitVenv/lib/python3.10/site-packages/openai/api_resources/chat_completion.py:25\u001b[0m, in \u001b[0;36mChatCompletion.create\u001b[0;34m(cls, *args, **kwargs)\u001b[0m\n\u001b[1;32m     23\u001b[0m \u001b[39mwhile\u001b[39;00m \u001b[39mTrue\u001b[39;00m:\n\u001b[1;32m     24\u001b[0m     \u001b[39mtry\u001b[39;00m:\n\u001b[0;32m---> 25\u001b[0m         \u001b[39mreturn\u001b[39;00m \u001b[39msuper\u001b[39;49m()\u001b[39m.\u001b[39;49mcreate(\u001b[39m*\u001b[39;49margs, \u001b[39m*\u001b[39;49m\u001b[39m*\u001b[39;49mkwargs)\n\u001b[1;32m     26\u001b[0m     \u001b[39mexcept\u001b[39;00m TryAgain \u001b[39mas\u001b[39;00m e:\n\u001b[1;32m     27\u001b[0m         \u001b[39mif\u001b[39;00m timeout \u001b[39mis\u001b[39;00m \u001b[39mnot\u001b[39;00m \u001b[39mNone\u001b[39;00m \u001b[39mand\u001b[39;00m time\u001b[39m.\u001b[39mtime() \u001b[39m>\u001b[39m start \u001b[39m+\u001b[39m timeout:\n",
      "File \u001b[0;32m~/Documents/Python Projects/AIToolkit/AIToolkitVenv/lib/python3.10/site-packages/openai/api_resources/abstract/engine_api_resource.py:153\u001b[0m, in \u001b[0;36mEngineAPIResource.create\u001b[0;34m(cls, api_key, api_base, api_type, request_id, api_version, organization, **params)\u001b[0m\n\u001b[1;32m    127\u001b[0m \u001b[39m@classmethod\u001b[39m\n\u001b[1;32m    128\u001b[0m \u001b[39mdef\u001b[39;00m \u001b[39mcreate\u001b[39m(\n\u001b[1;32m    129\u001b[0m     \u001b[39mcls\u001b[39m,\n\u001b[0;32m   (...)\u001b[0m\n\u001b[1;32m    136\u001b[0m     \u001b[39m*\u001b[39m\u001b[39m*\u001b[39mparams,\n\u001b[1;32m    137\u001b[0m ):\n\u001b[1;32m    138\u001b[0m     (\n\u001b[1;32m    139\u001b[0m         deployment_id,\n\u001b[1;32m    140\u001b[0m         engine,\n\u001b[0;32m   (...)\u001b[0m\n\u001b[1;32m    150\u001b[0m         api_key, api_base, api_type, api_version, organization, \u001b[39m*\u001b[39m\u001b[39m*\u001b[39mparams\n\u001b[1;32m    151\u001b[0m     )\n\u001b[0;32m--> 153\u001b[0m     response, _, api_key \u001b[39m=\u001b[39m requestor\u001b[39m.\u001b[39;49mrequest(\n\u001b[1;32m    154\u001b[0m         \u001b[39m\"\u001b[39;49m\u001b[39mpost\u001b[39;49m\u001b[39m\"\u001b[39;49m,\n\u001b[1;32m    155\u001b[0m         url,\n\u001b[1;32m    156\u001b[0m         params\u001b[39m=\u001b[39;49mparams,\n\u001b[1;32m    157\u001b[0m         headers\u001b[39m=\u001b[39;49mheaders,\n\u001b[1;32m    158\u001b[0m         stream\u001b[39m=\u001b[39;49mstream,\n\u001b[1;32m    159\u001b[0m         request_id\u001b[39m=\u001b[39;49mrequest_id,\n\u001b[1;32m    160\u001b[0m         request_timeout\u001b[39m=\u001b[39;49mrequest_timeout,\n\u001b[1;32m    161\u001b[0m     )\n\u001b[1;32m    163\u001b[0m     \u001b[39mif\u001b[39;00m stream:\n\u001b[1;32m    164\u001b[0m         \u001b[39m# must be an iterator\u001b[39;00m\n\u001b[1;32m    165\u001b[0m         \u001b[39massert\u001b[39;00m \u001b[39mnot\u001b[39;00m \u001b[39misinstance\u001b[39m(response, OpenAIResponse)\n",
      "File \u001b[0;32m~/Documents/Python Projects/AIToolkit/AIToolkitVenv/lib/python3.10/site-packages/openai/api_requestor.py:298\u001b[0m, in \u001b[0;36mAPIRequestor.request\u001b[0;34m(self, method, url, params, headers, files, stream, request_id, request_timeout)\u001b[0m\n\u001b[1;32m    277\u001b[0m \u001b[39mdef\u001b[39;00m \u001b[39mrequest\u001b[39m(\n\u001b[1;32m    278\u001b[0m     \u001b[39mself\u001b[39m,\n\u001b[1;32m    279\u001b[0m     method,\n\u001b[0;32m   (...)\u001b[0m\n\u001b[1;32m    286\u001b[0m     request_timeout: Optional[Union[\u001b[39mfloat\u001b[39m, Tuple[\u001b[39mfloat\u001b[39m, \u001b[39mfloat\u001b[39m]]] \u001b[39m=\u001b[39m \u001b[39mNone\u001b[39;00m,\n\u001b[1;32m    287\u001b[0m ) \u001b[39m-\u001b[39m\u001b[39m>\u001b[39m Tuple[Union[OpenAIResponse, Iterator[OpenAIResponse]], \u001b[39mbool\u001b[39m, \u001b[39mstr\u001b[39m]:\n\u001b[1;32m    288\u001b[0m     result \u001b[39m=\u001b[39m \u001b[39mself\u001b[39m\u001b[39m.\u001b[39mrequest_raw(\n\u001b[1;32m    289\u001b[0m         method\u001b[39m.\u001b[39mlower(),\n\u001b[1;32m    290\u001b[0m         url,\n\u001b[0;32m   (...)\u001b[0m\n\u001b[1;32m    296\u001b[0m         request_timeout\u001b[39m=\u001b[39mrequest_timeout,\n\u001b[1;32m    297\u001b[0m     )\n\u001b[0;32m--> 298\u001b[0m     resp, got_stream \u001b[39m=\u001b[39m \u001b[39mself\u001b[39;49m\u001b[39m.\u001b[39;49m_interpret_response(result, stream)\n\u001b[1;32m    299\u001b[0m     \u001b[39mreturn\u001b[39;00m resp, got_stream, \u001b[39mself\u001b[39m\u001b[39m.\u001b[39mapi_key\n",
      "File \u001b[0;32m~/Documents/Python Projects/AIToolkit/AIToolkitVenv/lib/python3.10/site-packages/openai/api_requestor.py:700\u001b[0m, in \u001b[0;36mAPIRequestor._interpret_response\u001b[0;34m(self, result, stream)\u001b[0m\n\u001b[1;32m    692\u001b[0m     \u001b[39mreturn\u001b[39;00m (\n\u001b[1;32m    693\u001b[0m         \u001b[39mself\u001b[39m\u001b[39m.\u001b[39m_interpret_response_line(\n\u001b[1;32m    694\u001b[0m             line, result\u001b[39m.\u001b[39mstatus_code, result\u001b[39m.\u001b[39mheaders, stream\u001b[39m=\u001b[39m\u001b[39mTrue\u001b[39;00m\n\u001b[1;32m    695\u001b[0m         )\n\u001b[1;32m    696\u001b[0m         \u001b[39mfor\u001b[39;00m line \u001b[39min\u001b[39;00m parse_stream(result\u001b[39m.\u001b[39miter_lines())\n\u001b[1;32m    697\u001b[0m     ), \u001b[39mTrue\u001b[39;00m\n\u001b[1;32m    698\u001b[0m \u001b[39melse\u001b[39;00m:\n\u001b[1;32m    699\u001b[0m     \u001b[39mreturn\u001b[39;00m (\n\u001b[0;32m--> 700\u001b[0m         \u001b[39mself\u001b[39;49m\u001b[39m.\u001b[39;49m_interpret_response_line(\n\u001b[1;32m    701\u001b[0m             result\u001b[39m.\u001b[39;49mcontent\u001b[39m.\u001b[39;49mdecode(\u001b[39m\"\u001b[39;49m\u001b[39mutf-8\u001b[39;49m\u001b[39m\"\u001b[39;49m),\n\u001b[1;32m    702\u001b[0m             result\u001b[39m.\u001b[39;49mstatus_code,\n\u001b[1;32m    703\u001b[0m             result\u001b[39m.\u001b[39;49mheaders,\n\u001b[1;32m    704\u001b[0m             stream\u001b[39m=\u001b[39;49m\u001b[39mFalse\u001b[39;49;00m,\n\u001b[1;32m    705\u001b[0m         ),\n\u001b[1;32m    706\u001b[0m         \u001b[39mFalse\u001b[39;00m,\n\u001b[1;32m    707\u001b[0m     )\n",
      "File \u001b[0;32m~/Documents/Python Projects/AIToolkit/AIToolkitVenv/lib/python3.10/site-packages/openai/api_requestor.py:763\u001b[0m, in \u001b[0;36mAPIRequestor._interpret_response_line\u001b[0;34m(self, rbody, rcode, rheaders, stream)\u001b[0m\n\u001b[1;32m    761\u001b[0m stream_error \u001b[39m=\u001b[39m stream \u001b[39mand\u001b[39;00m \u001b[39m\"\u001b[39m\u001b[39merror\u001b[39m\u001b[39m\"\u001b[39m \u001b[39min\u001b[39;00m resp\u001b[39m.\u001b[39mdata\n\u001b[1;32m    762\u001b[0m \u001b[39mif\u001b[39;00m stream_error \u001b[39mor\u001b[39;00m \u001b[39mnot\u001b[39;00m \u001b[39m200\u001b[39m \u001b[39m<\u001b[39m\u001b[39m=\u001b[39m rcode \u001b[39m<\u001b[39m \u001b[39m300\u001b[39m:\n\u001b[0;32m--> 763\u001b[0m     \u001b[39mraise\u001b[39;00m \u001b[39mself\u001b[39m\u001b[39m.\u001b[39mhandle_error_response(\n\u001b[1;32m    764\u001b[0m         rbody, rcode, resp\u001b[39m.\u001b[39mdata, rheaders, stream_error\u001b[39m=\u001b[39mstream_error\n\u001b[1;32m    765\u001b[0m     )\n\u001b[1;32m    766\u001b[0m \u001b[39mreturn\u001b[39;00m resp\n",
      "\u001b[0;31mRateLimitError\u001b[0m: Rate limit reached for 10KTPM-200RPM in organization org-1ra0eeBjtT69TLEagEMEAA9n on tokens per min. Limit: 10000 / min. Please try again in 6ms. Contact us through our help center at help.openai.com if you continue to have issues."
     ]
    }
   ],
   "source": [
    "driver_output = list()\n",
    "for i in range(len(dimension_ouput_for_driver_analysis)):\n",
    "    clear_output(wait=True)\n",
    "    print(f\"Processing comment {i+1} of {len(dimension_ouput_for_driver_analysis)}\")\n",
    "    driver_analyzer.set_input(comment_dict=dimension_ouput_for_driver_analysis[i])\n",
    "    driver_analyzer.process()\n",
    "    driver_output.extend(driver_analyzer.get_output())"
   ]
  },
  {
   "cell_type": "code",
   "execution_count": null,
   "metadata": {},
   "outputs": [
    {
     "data": {
      "text/plain": [
       "'\"Pride\": \"From this employee\\'s experience, the uncertainty and fear of job security is negatively affecting their pride in the organization; therefore, leaders need to address these concerns transparently and promptly because such uncertainties can divert focus from the core purpose of serving families.\"'"
      ]
     },
     "metadata": {},
     "output_type": "display_data"
    },
    {
     "data": {
      "text/plain": [
       "{'Pride': \"From this employee's experience, the uncertainty and fear of job security is negatively affecting their pride in the organization; therefore, leaders need to address these concerns transparently and promptly because such uncertainties can divert focus from the core purpose of serving families.\"}"
      ]
     },
     "execution_count": 32,
     "metadata": {},
     "output_type": "execute_result"
    }
   ],
   "source": [
    "import json\n",
    "display(driver_analyzer_llm.get_output())\n",
    "\n",
    "data = '{\"Pride\": \"From this employee\\'s experience, the uncertainty and fear of job security is negatively affecting their pride in the organization; therefore, leaders need to address these concerns transparently and promptly because such uncertainties can divert focus from the core purpose of serving families.\"}'\n",
    "json.loads(data)"
   ]
  },
  {
   "cell_type": "code",
   "execution_count": null,
   "metadata": {},
   "outputs": [],
   "source": [
    "driver_results_json = ai.io.FileWriter(\"Save Driver Analysis JSON\").set_input(file_path=f\"Clients/{client_name}/drivers_json.json\", data=driver_output)\n",
    "driver_results_json.process()\n",
    "driver_results_json.get_output()"
   ]
  },
  {
   "cell_type": "code",
   "execution_count": null,
   "metadata": {},
   "outputs": [],
   "source": [
    "keep_keys = ['Meaning', 'Pride', 'Significance', 'Supervisor', 'Organization', 'Appreciation', 'Team', 'Empowerment', 'Investment', 'Impact', 'Clarity', 'Advancement', 'Strategy', 'Vision', 'Mastery', 'Trust', 'Equity', 'Execution']\n",
    "extra_keep_keys = ['Compensation', 'Work Environment', 'Workload & Stress', 'Diversity']\n",
    "\n",
    "result_dict = {}\n",
    "for anal in driver_output:\n",
    "        if not (anal['driver'] in keep_keys or anal['driver'] in extra_keep_keys):\n",
    "            continue\n",
    "        dimension = row['Comment']['dimension']\n",
    "        comment = row['Comment']['comment']\n",
    "        analysis = row['Comment']['analysis']\n",
    "        comment_num = row['Comment']['comment_number']\n",
    "        takeaway = row['Takeaway']\n",
    "        for key, value in takeaway.items():\n",
    "            if key in result_dict:\n",
    "                result_dict[key].append(f'{comment_num} - {value}')\n",
    "            else:\n",
    "                result_dict[key] = [f'{comment_num} - {value}']"
   ]
  }
 ],
 "metadata": {
  "kernelspec": {
   "display_name": "AIToolkitVenv",
   "language": "python",
   "name": "python3"
  },
  "language_info": {
   "codemirror_mode": {
    "name": "ipython",
    "version": 3
   },
   "file_extension": ".py",
   "mimetype": "text/x-python",
   "name": "python",
   "nbconvert_exporter": "python",
   "pygments_lexer": "ipython3",
   "version": "3.10.10"
  },
  "orig_nbformat": 4
 },
 "nbformat": 4,
 "nbformat_minor": 2
}
