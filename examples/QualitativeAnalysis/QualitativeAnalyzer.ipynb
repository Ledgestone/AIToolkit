{
 "cells": [
  {
   "cell_type": "markdown",
   "metadata": {},
   "source": [
    "### Import statements"
   ]
  },
  {
   "cell_type": "code",
   "execution_count": 14,
   "metadata": {},
   "outputs": [],
   "source": [
    "import sys\n",
    "sys.path.insert(0, '/Users/ahell/Documents/Python Projects/AIToolkit')\n",
    "\n",
    "import os\n",
    "from dotenv import load_dotenv, find_dotenv\n",
    "from ai_toolkit import AIModel, PromptBuilder, FileReader, FileWriter, AIProcess, Function, APIRequest\n",
    "from IPython.display import display, Markdown, HTML, clear_output"
   ]
  },
  {
   "cell_type": "code",
   "execution_count": 3,
   "metadata": {},
   "outputs": [
    {
     "data": {
      "text/plain": [
       "True"
      ]
     },
     "execution_count": 3,
     "metadata": {},
     "output_type": "execute_result"
    }
   ],
   "source": [
    "# Load in the environment variables\n",
    "load_dotenv(find_dotenv())"
   ]
  },
  {
   "cell_type": "code",
   "execution_count": 4,
   "metadata": {},
   "outputs": [
    {
     "data": {
      "text/plain": [
       "['gpt-3.5-turbo',\n",
       " 'gpt-4',\n",
       " 'gpt-3.5-turbo-16k',\n",
       " 'claude-1',\n",
       " 'claude-1-100k',\n",
       " 'claude-instant-1',\n",
       " 'claude-instant-1-100k',\n",
       " 'respell-gpt-4-wrapper']"
      ]
     },
     "execution_count": 4,
     "metadata": {},
     "output_type": "execute_result"
    }
   ],
   "source": [
    "AIModel.ALL_MODEL_NAMES"
   ]
  },
  {
   "cell_type": "markdown",
   "metadata": {},
   "source": [
    "### Code"
   ]
  },
  {
   "cell_type": "code",
   "execution_count": 5,
   "metadata": {},
   "outputs": [
    {
     "data": {
      "text/plain": [
       "Comments Request (APIRequest)"
      ]
     },
     "execution_count": 5,
     "metadata": {},
     "output_type": "execute_result"
    }
   ],
   "source": [
    "request_url = \"https://dev-api.insite.ledgestone.com/api/results/comments/a710652c-b271-4499-add0-b88c14d31517/open_ended\"\n",
    "request_method = \"GET\"\n",
    "request_headers = {\n",
    "    \"Authorization\": f\"Bearer {os.environ['BEARER_TOKEN']}\",\n",
    "    \"Content-Type\": \"application/json\"\n",
    "}\n",
    "comments_request = APIRequest(\"Comments Request\").set_input(url=request_url, method=request_method, headers=request_headers)\n",
    "comments_request.process()"
   ]
  },
  {
   "cell_type": "code",
   "execution_count": 6,
   "metadata": {},
   "outputs": [
    {
     "name": "stdout",
     "output_type": "stream",
     "text": [
      "[{'comment': 'this is a great place to ', 'nps_category': 'promoter', 'comment_number': 1, 'prompt_response_id': '00b940bb-d597-4bff-b11c-ec62a8a0f2f7'}, {'comment': 'Need to be more caring ', 'nps_category': 'passive', 'comment_number': 2, 'prompt_response_id': '018f5d23-4831-402d-b6e3-5138c5deca13'}, {'comment': 'Improved inter department connections - events like today will aid with ', 'nps_category': 'promoter', 'comment_number': 3, 'prompt_response_id': '06e1f20f-6dc6-47ef-88c8-9668d9af0a93'}, {'comment': 'Having a schedule more than a week at a time so we could plan a life outside of work. ', 'nps_category': 'passive', 'comment_number': 4, 'prompt_response_id': '1925d6e6-a7c5-41e4-9ed0-60ad29eff5fb'}, {'comment': 'No just keep doing what you are doing ', 'nps_category': 'promoter', 'comment_number': 5, 'prompt_response_id': '1c2fcb0d-a0f5-438b-975f-f6e11c6b9801'}, {'comment': 'ADD THAT RAISE AND STOP HIRING LAZY PEOPLE.', 'nps_category': 'passive', 'comment_number': 6, 'prompt_response_id': '397e7f6a-5e45-4986-8f50-65604bff0b34'}, {'comment': 'Epic is great', 'nps_category': 'promoter', 'comment_number': 7, 'prompt_response_id': '40c1d1b0-d307-47fd-9a75-69dc467fc8b5'}, {'comment': 'I appreciate everything EP! C stands for. ', 'nps_category': 'promoter', 'comment_number': 8, 'prompt_response_id': '4d2cd9ae-c3fd-4bc3-ad58-55af3f423f9c'}, {'comment': 'EP!C needs to offer short term disability insurance. EP!C is the only wages for many households and to be off work with no income and bills to worry about is difficult.', 'nps_category': 'passive', 'comment_number': 9, 'prompt_response_id': '4d703f4a-1466-4e86-943d-eb9c1bbdb03e'}, {'comment': 'Thank you and I hope this will help in making this a better place', 'nps_category': 'promoter', 'comment_number': 10, 'prompt_response_id': '4e72782d-8d80-4df6-be82-6adad627fd94'}, {'comment': 'Could use more employees helping new employees ', 'nps_category': 'promoter', 'comment_number': 11, 'prompt_response_id': '5556da35-2452-44c5-ab05-a2e64940df76'}, {'comment': 'Need more consistency in the resources that we have to work with. Especially our computer network, which seems to run at archaic speed too many times.', 'nps_category': 'promoter', 'comment_number': 12, 'prompt_response_id': '7abb5b3e-6f77-4624-a7ab-9e2e0862f777'}, {'comment': 'Fix the internet ', 'nps_category': 'promoter', 'comment_number': 13, 'prompt_response_id': '7b23c633-1a84-4f8b-bd10-1c1fcf825f11'}, {'comment': 'Communication needs to be better ', 'nps_category': 'promoter', 'comment_number': 14, 'prompt_response_id': '7f3cd194-e2f2-47d5-8606-02aab970a573'}, {'comment': 'Constant communication is key ', 'nps_category': 'promoter', 'comment_number': 15, 'prompt_response_id': '86b3a4ae-0bac-4e8d-bcc9-a271c1ed055f'}, {'comment': '- excited to be part of creating better systems for certain things in the agency, such as enhancing organization & communication ', 'nps_category': 'promoter', 'comment_number': 16, 'prompt_response_id': '904b3a4d-1410-4522-b685-c2fe205c7a99'}, {'comment': 'I just feel very out of place in my department. I feel that I have no purpose. My coworkers do not appreciate me nor value my work. Neither does my supervisor. The only thing keeping me here is the individuals. - DSP in seniors ', 'nps_category': 'detractor', 'comment_number': 17, 'prompt_response_id': '95bc1976-278b-4a6e-a4a1-80c109639d8e'}, {'comment': 'I love it here!!', 'nps_category': 'promoter', 'comment_number': 18, 'prompt_response_id': '96549888-e2e8-4a72-99a1-c6183bc222e1'}, {'comment': 'Silos are problematic at all levels including exec and admin team ', 'nps_category': 'detractor', 'comment_number': 19, 'prompt_response_id': 'a30fb958-e9fd-48b9-843a-8441382545bd'}, {'comment': 'Great place to work ', 'nps_category': 'promoter', 'comment_number': 20, 'prompt_response_id': 'cc33023a-37c9-4d00-bf42-f515e7844221'}, {'comment': 'I wish we had more events provided for all staff to increase socialization like the organization provided 4years ago. Ie Christmas party', 'nps_category': 'promoter', 'comment_number': 21, 'prompt_response_id': 'e60591ca-6843-46fb-a718-ed212dfa31a7'}, {'comment': 'Leadership needs s to work more with employees ', 'nps_category': 'promoter', 'comment_number': 22, 'prompt_response_id': 'ed38c131-8b77-4351-96da-a19357cf695b'}, {'comment': 'We should have choice when it comes to choosing this pertaining to the job.', 'nps_category': 'detractor', 'comment_number': 23, 'prompt_response_id': 'ef7de2c6-a9e4-45f9-b29e-f4633cfa511d'}, {'comment': 'Better technology to work with.', 'nps_category': 'promoter', 'comment_number': 24, 'prompt_response_id': 'fa2a157f-1ee2-4217-9304-fb690b72271a'}]\n"
     ]
    }
   ],
   "source": [
    "comments_function = Function(\"Comments List Extractor\").set_input(function=\"extract_key\", input=comments_request, key_name=\"comments\")\n",
    "comments_function.process()\n",
    "comments_list = comments_function.get_output()\n",
    "print(comments_list)"
   ]
  },
  {
   "cell_type": "code",
   "execution_count": 9,
   "metadata": {},
   "outputs": [
    {
     "data": {
      "text/plain": [
       "Dimension Analyzer (AIProcess)"
      ]
     },
     "execution_count": 9,
     "metadata": {},
     "output_type": "execute_result"
    }
   ],
   "source": [
    "extract_comment = Function(\"Extract Comment\").set_input(function=\"extract_key\", name_of_input=\"comment_dict\", key_name=\"comment\")\n",
    "extract_comment_num = Function(\"Extract Comment Number\").set_input(function=\"extract_key\", name_of_input=\"comment_dict\", key_name=\"comment_number\")\n",
    "extract_prompt_response_id = Function(\"Extract Prompt Response ID\").set_input(function=\"extract_key\", name_of_input=\"comment_dict\", key_name=\"prompt_response_id\")\n",
    "\n",
    "dimension_prompt_file = FileReader(\"Dimension Analyzer File\").set_input(file_path=\"dimension_prompt.txt\")\n",
    "dimension_prompt = PromptBuilder(\"Dimension Analyzer Prompt\").set_input(template=dimension_prompt_file, comment=extract_comment)\n",
    "dimension_analyzer_llm = AIModel(\"Dimension Analyzer LLM\").set_input(model_name=\"gpt-3.5-turbo\", prompt=dimension_prompt)\n",
    "dimension_analyzer_json = Function(\"Dimension Analyzer JSON\").set_input(function=\"convert_to_json\", input=dimension_analyzer_llm)\n",
    "\n",
    "convert_support_and_regognition_to_value_function = \"\"\"\n",
    "    analysis = get_input(\"analysis\")\n",
    "    if 'Support & Recognition' in analysis:\n",
    "        analysis['Value'] = analysis.pop('Support & Recognition')\n",
    "    return analysis\n",
    "\"\"\"\n",
    "\n",
    "dimension_analyzer_output_function = \"\"\"\n",
    "    comment_number = get_input(\"comment_number\")\n",
    "    comment = get_input(\"comment\")\n",
    "    prompt_response_id = get_input(\"prompt_response_id\")\n",
    "    analysis = get_input(\"analysis\")\n",
    "    output = list()\n",
    "    for dimension, anal in analysis.items():\n",
    "        output.append({\n",
    "            \"comment_number\": comment_number,\n",
    "            \"comment\": comment,\n",
    "            \"prompt_response_id\": prompt_response_id,\n",
    "            \"dimension\": dimension,\n",
    "            \"analysis\": anal[\"analysis\"],\n",
    "            \"sentiment\": anal[\"sentiment\"]\n",
    "            })\n",
    "\n",
    "    return output\n",
    "\"\"\"\n",
    "\n",
    "convert_support_and_recognition_to_value = Function(\"Convert Support & Recognition to Value\").set_input(function=convert_support_and_regognition_to_value_function, analysis=dimension_analyzer_json)\n",
    "\n",
    "dimension_analyzer_output = Function(\"Dimension Analyzer Output\").set_input(function=dimension_analyzer_output_function, \n",
    "                                                                            comment_number=extract_comment_num, \n",
    "                                                                            comment=extract_comment, \n",
    "                                                                            prompt_response_id=extract_prompt_response_id, \n",
    "                                                                            analysis=convert_support_and_recognition_to_value)\n",
    "\n",
    "dimension_analyzer = AIProcess(\"Dimension Analyzer\")\n",
    "dimension_analyzer.expose_input(\"comment_dict\", extract_comment)\n",
    "dimension_analyzer.expose_input(\"comment_dict\", extract_comment_num)\n",
    "dimension_analyzer.expose_input(\"comment_dict\", extract_prompt_response_id)\n",
    "dimension_analyzer.expose_output(dimension_analyzer_output)"
   ]
  },
  {
   "cell_type": "code",
   "execution_count": 12,
   "metadata": {},
   "outputs": [
    {
     "name": "stdout",
     "output_type": "stream",
     "text": [
      "Processing comment 24 of 24\n",
      "Processing Extract Comment (Function)\n",
      "Processing Extract Comment Number (Function)\n",
      "Processing Extract Prompt Response ID (Function)\n",
      "Processing Dimension Analyzer File (FileReader)\n",
      "Processing Dimension Analyzer Prompt (PromptBuilder)\n",
      "Processing Dimension Analyzer LLM (AIModel)\n",
      "Processing Dimension Analyzer JSON (Function)\n",
      "Processing Convert Support & Recognition to Value (Function)\n",
      "Processing Dimension Analyzer Output (Function)\n"
     ]
    }
   ],
   "source": [
    "output = list()\n",
    "for i in range(len(comments_list)):\n",
    "    clear_output(wait=True)\n",
    "    print(f\"Processing comment {i+1} of {len(comments_list)}\")\n",
    "    dimension_analyzer.set_input(comment_dict=comments_list[i])\n",
    "    dimension_analyzer.process()\n",
    "    output.extend(dimension_analyzer.get_output())"
   ]
  },
  {
   "cell_type": "code",
   "execution_count": 15,
   "metadata": {},
   "outputs": [
    {
     "data": {
      "text/plain": [
       "'File successfully written'"
      ]
     },
     "execution_count": 15,
     "metadata": {},
     "output_type": "execute_result"
    }
   ],
   "source": [
    "dimension_results_json = FileWriter(\"Save Dimension Analysis JSON\").set_input(file_path=\"dimension_results.json\", data=output)\n",
    "dimension_results_json.process()\n",
    "dimension_results_json.get_output()"
   ]
  }
 ],
 "metadata": {
  "kernelspec": {
   "display_name": "AIToolkitVenv",
   "language": "python",
   "name": "python3"
  },
  "language_info": {
   "codemirror_mode": {
    "name": "ipython",
    "version": 3
   },
   "file_extension": ".py",
   "mimetype": "text/x-python",
   "name": "python",
   "nbconvert_exporter": "python",
   "pygments_lexer": "ipython3",
   "version": "3.10.10"
  },
  "orig_nbformat": 4
 },
 "nbformat": 4,
 "nbformat_minor": 2
}
